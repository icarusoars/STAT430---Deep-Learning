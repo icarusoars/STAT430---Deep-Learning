{
 "cells": [
  {
   "cell_type": "markdown",
   "metadata": {
    "colab_type": "text",
    "id": "T3tFQhny209q"
   },
   "source": [
    "# Overview \n",
    "\n",
    "Please see the [homework policy](https://fdl.thecoatlessprofessor.com/syllabus/#homework)\n",
    "for detailed instructions and some grading notes. Failure to follow instructions\n",
    "will result in point reductions. In particular, make sure to commit each \n",
    "exercise as you complete them. \n",
    "\n",
    "> \"...what we want is a machine that can learn from experience.\"\n",
    "> \n",
    "> -- Alan Turing, 1947\n",
    "\n",
    "## Grading\n",
    "\n",
    "The rubric CAs will use to grade this assignment is:\n",
    "\n",
    "| Task                                                   | Pts |\n",
    "|:-------------------------------------------------------|----:|\n",
    "| Activated                                              | 12  |\n",
    "| Descending MLR .                                       | 20  |\n",
    "| Make a Plan                                            | 15  |\n",
    "| Neuron by Hand                                         | 14  |\n",
    "| Total                                                  | 61  |\n",
    "\n",
    "\n",
    "## Objectives \n",
    "\n",
    "The objectives behind this homework assignment are as follows:\n",
    "\n",
    "- Implement functions in Python;\n",
    "- Viewing differences in activation functions;\n",
    "- Applying gradient descent; and,\n",
    "- Constructing neural networks.\n"
   ]
  },
  {
   "cell_type": "markdown",
   "metadata": {
    "colab_type": "text",
    "id": "_RoKiU973P7s"
   },
   "source": [
    "# Assignment - Homework 2\n",
    "STAT 430 - FDL, Spring 2020\n",
    "\n",
    "Due: **Friday, February 21st, 2020 at 6:00 PM**\n",
    "\n",
    "- **Author:** Skyler Shi\n",
    "- **NetID:** jingtao2\n",
    "\n",
    "### Collaborators\n",
    "\n",
    "If you worked with any other student in preparing these answers, please\n",
    "make sure to list their full names and NetIDs (e.g. `FirstName LastName (NetID)` ).\n"
   ]
  },
  {
   "cell_type": "code",
   "execution_count": 1,
   "metadata": {
    "colab": {
     "base_uri": "https://localhost:8080/",
     "height": 102
    },
    "colab_type": "code",
    "id": "xoJQ__o-3cdO",
    "outputId": "f0dfaf01-ebda-4cdd-b562-645bf2bc8357"
   },
   "outputs": [
    {
     "name": "stdout",
     "output_type": "stream",
     "text": [
      "Diagnostics: \n",
      "Notebook is being run locally or through another source.\n"
     ]
    }
   ],
   "source": [
    "print(\"Diagnostics: \")\n",
    "\n",
    "try:\n",
    "  from google.colab import drive\n",
    "  is_google_colab = True\n",
    "  import sys\n",
    "  import pandas as pd\n",
    "  import numpy as np\n",
    "\n",
    "  print(f\"python: {sys.version}\")\n",
    "  print(f\"pandas: {np.__version__}\")\n",
    "  print(\"Notebook is on Google CoLab\")\n",
    "except:\n",
    "  is_google_colab = False\n",
    "  print(\"Notebook is being run locally or through another source.\")"
   ]
  },
  {
   "cell_type": "code",
   "execution_count": 42,
   "metadata": {},
   "outputs": [],
   "source": [
    "import pandas as pd\n",
    "import numpy as np\n",
    "import matplotlib.pyplot as plt\n",
    "import seaborn as sns\n",
    "sns.set()"
   ]
  },
  {
   "cell_type": "markdown",
   "metadata": {
    "colab_type": "text",
    "id": "OaHGju8mV4ER"
   },
   "source": [
    "## [12 points] Exercise 1 - Activated\n",
    "\n",
    "**(a) (4 points)** During lecture, we claimed that the `tanh(x)` is underpinned by the sigmoid activation function. Given that:\n",
    "\n",
    "$$\n",
    "\\begin{align}\n",
    "\\sigma(x) &= \\frac{ e^x }{1 + e^x} = \\frac{ 1 }{1 + e^{-x}} \\\\\n",
    "\\tanh(x) &= \\frac{e^x – e^{-x}}{e^x + e^{-x}} \n",
    "\\end{align}\n",
    "$$\n",
    "\n",
    "Show that:\n",
    "\n",
    "$$\\tanh(x) = 2 \\sigma(2x) - 1$$\n"
   ]
  },
  {
   "cell_type": "markdown",
   "metadata": {
    "colab_type": "text",
    "id": "v_pu8Dsd31Bz"
   },
   "source": [
    "... proof here ...\n",
    "\n",
    "$$\n",
    "\\begin{align}\n",
    "\\tanh(x) &= \\frac{e^x – e^{-x}}{e^x + e^{-x}} \\\\\n",
    "\\tanh(x) &= \\frac{e^x}{e^x + e^{-x}} - \\frac{e^{-x}}{e^x + e^{-x}} \\\\\n",
    "\\tanh(x) &= \\frac{1}{1 + e^{-2x}} - \\frac{1}{e^{2x} + 1} \\\\\n",
    "\\tanh(x) &= \\sigma(2x) - \\sigma(-2x)\n",
    "\\end{align}\n",
    "$$\n",
    "\n",
    "$\\sigma(-x)$ is equivalent to flipping $\\sigma(x)$ around the axis $ y = 0.5$. Hence we can observe $\\sigma(-x) = 1 - \\sigma(x)$\n",
    "\n",
    "\n",
    "$$\n",
    "\\begin{align}\n",
    "\\tanh(x) &= \\sigma(2x) - \\sigma(-2x) \\\\\n",
    "\\tanh(x) &= \\sigma(2x) - (1 - \\sigma(2x)) \\\\\n",
    "\\tanh(x) &= 2 \\sigma(2x) - 1\n",
    "\\end{align}\n",
    "$$"
   ]
  },
  {
   "cell_type": "markdown",
   "metadata": {
    "colab_type": "text",
    "id": "L6gzZPPTBDLP"
   },
   "source": [
    "\n",
    "**(b) (2 points)** Consider the _Exponential Linear Unit_ ('ELU') activation function:\n",
    "\n",
    "$$g(x) = \\max{\\left({\\alpha(\\exp x - 1), x)}\\right)}, \\alpha \\ge 0 $$\n",
    "\n",
    "Implement ELU as a function in Python that uses NumPy's vectorization abilities.\n",
    "\n",
    "Implementation Guidelines:\n",
    "\n",
    "- **Arguments:**\n",
    "    - `x`: A vector of values to \"activate\".\n",
    "    - `alpha`: Scale for the negative factor.\n",
    "- **Return:**\n",
    "    - A vector with each element \"activated\"."
   ]
  },
  {
   "cell_type": "code",
   "execution_count": 25,
   "metadata": {
    "colab": {},
    "colab_type": "code",
    "id": "tAKFIutdBFnS"
   },
   "outputs": [],
   "source": [
    "# Code here\n",
    "def ELU(x, alpha):\n",
    "    x = np.array(x).reshape((1, len(x)))\n",
    "    left = alpha * (np.exp(x) - 1)\n",
    "    g_x = np.concatenate((left, x), axis = 0)\n",
    "    g_x = np.amax(g_x, axis = 0)\n",
    "    return g_x"
   ]
  },
  {
   "cell_type": "code",
   "execution_count": 24,
   "metadata": {},
   "outputs": [
    {
     "data": {
      "text/plain": [
       "array([1.        , 3.19452805, 9.54276846])"
      ]
     },
     "execution_count": 24,
     "metadata": {},
     "output_type": "execute_result"
    }
   ],
   "source": [
    "ELU([1,2,3], 0.5)"
   ]
  },
  {
   "cell_type": "markdown",
   "metadata": {
    "colab_type": "text",
    "id": "u6rmd6A7CPoN"
   },
   "source": [
    "**(c) (3 points)** Graph the ELU activation function with varying values for $\\alpha$.  How does the graph change?"
   ]
  },
  {
   "cell_type": "code",
   "execution_count": 44,
   "metadata": {
    "colab": {},
    "colab_type": "code",
    "id": "-GPPHfWDCP4R"
   },
   "outputs": [
    {
     "data": {
      "text/plain": [
       "<matplotlib.axes._subplots.AxesSubplot at 0x1a1c6a32e8>"
      ]
     },
     "execution_count": 44,
     "metadata": {},
     "output_type": "execute_result"
    },
    {
     "data": {
      "image/png": "[encoded data removed]",
      "text/plain": [
       "<Figure size 1152x432 with 1 Axes>"
      ]
     },
     "metadata": {},
     "output_type": "display_data"
    }
   ],
   "source": [
    "# Code here\n",
    "x = np.arange(0,10,0.1)\n",
    "plt.figure(figsize = (16,6))\n",
    "sns.lineplot(x = x,\n",
    "             y = ELU(x, 0.1), label = 'alpha = 0.1')\n",
    "sns.lineplot(x = x,\n",
    "             y = ELU(x, 0.5), label = 'alpha = 0.5')\n",
    "sns.lineplot(x = x,\n",
    "             y = ELU(x, 1)  , label = 'alpha = 1')\n",
    "sns.lineplot(x = x,\n",
    "             y = ELU(x, 2)  , label = 'alpha = 2')"
   ]
  },
  {
   "cell_type": "markdown",
   "metadata": {},
   "source": [
    "As alpha increases, the graph for ELU activation function tilts upwards more. In other words, the increase in the function's slope is quicker for larger alpha values."
   ]
  },
  {
   "cell_type": "markdown",
   "metadata": {
    "colab_type": "text",
    "id": "G9cvcCaxBEbm"
   },
   "source": [
    "**(d) (3 points)** Graph the ELU activation function alongside `sigmoid()`, `tanh()`, `relu()`, and `leaky_relu()`. How does it differ when compared to the others?"
   ]
  },
  {
   "cell_type": "code",
   "execution_count": 52,
   "metadata": {
    "colab": {},
    "colab_type": "code",
    "id": "xItjlSrHBGfV"
   },
   "outputs": [
    {
     "data": {
      "text/plain": [
       "<matplotlib.axes._subplots.AxesSubplot at 0x1a1dfbfd68>"
      ]
     },
     "execution_count": 52,
     "metadata": {},
     "output_type": "execute_result"
    },
    {
     "data": {
      "image/png": "[encoded data removed]",
      "text/plain": [
       "<Figure size 1152x432 with 1 Axes>"
      ]
     },
     "metadata": {},
     "output_type": "display_data"
    }
   ],
   "source": [
    "# Code here\n",
    "x = np.arange(0,1,0.1)\n",
    "\n",
    "sigmoid = 1/(1 + np.exp(-x)) \n",
    "tanh    = 2/(1 + np.exp(-2*x)) - 1\n",
    "relu    =  np.maximum(0, x)\n",
    "leaky_relu = np.where(x > 0, x, x * 0.01)\n",
    "\n",
    "plt.figure(figsize = (16,6))\n",
    "sns.lineplot(x = x,\n",
    "             y = ELU(x, 1)  , label = 'ELU')\n",
    "sns.lineplot(x = x,\n",
    "             y = sigmoid  , label = 'sigmoid')\n",
    "sns.lineplot(x = x,\n",
    "             y = tanh  , label = 'tanh')\n",
    "sns.lineplot(x = x,\n",
    "             y = relu  , label = 'relu')\n",
    "sns.lineplot(x = x,\n",
    "             y = leaky_relu  , label = 'leaky_relu')"
   ]
  },
  {
   "cell_type": "code",
   "execution_count": 55,
   "metadata": {},
   "outputs": [
    {
     "data": {
      "text/plain": [
       "<matplotlib.axes._subplots.AxesSubplot at 0x1a1e0d90b8>"
      ]
     },
     "execution_count": 55,
     "metadata": {},
     "output_type": "execute_result"
    },
    {
     "data": {
      "image/png": "[encoded data removed]",
      "text/plain": [
       "<Figure size 1152x432 with 1 Axes>"
      ]
     },
     "metadata": {},
     "output_type": "display_data"
    }
   ],
   "source": [
    "# Code here\n",
    "x = np.arange(0,5,0.1)\n",
    "\n",
    "sigmoid = 1/(1 + np.exp(-x)) \n",
    "tanh    = 2/(1 + np.exp(-2*x)) - 1\n",
    "relu    =  np.maximum(0, x)\n",
    "leaky_relu = np.where(x > 0, x, x * 0.01)\n",
    "\n",
    "plt.figure(figsize = (16,6))\n",
    "sns.lineplot(x = x,\n",
    "             y = ELU(x, 1)  , label = 'ELU')\n",
    "sns.lineplot(x = x,\n",
    "             y = sigmoid  , label = 'sigmoid')\n",
    "sns.lineplot(x = x,\n",
    "             y = tanh  , label = 'tanh')\n",
    "sns.lineplot(x = x,\n",
    "             y = relu  , label = 'relu')\n",
    "sns.lineplot(x = x,\n",
    "             y = leaky_relu  , label = 'leaky_relu')"
   ]
  },
  {
   "cell_type": "markdown",
   "metadata": {
    "colab_type": "text",
    "id": "XITekOp_BHf5"
   },
   "source": [
    "Explanation: \n",
    "All the other functions are asymptotically linear whereas this ELU function is exponential. It increases at a much faster rate than the other activation functions due to the exponential term it contains."
   ]
  },
  {
   "cell_type": "markdown",
   "metadata": {
    "colab_type": "text",
    "id": "rWVLCAyv6bkE"
   },
   "source": [
    "## [20 points] Exercise 2 - Descending MLR\n",
    "\n",
    "The objective of this question is to construct a shallow neural network that is updated using gradient descent.\n",
    "\n",
    "**(a) (4 points)** Design and implement a function that randomly generates a set of data and observed values for linear regression given dimensions and parameter values. Make sure to add \"noise\" to the predictions to avoid having a perfectly linear relationship and ensure that the first column of the design matrix contains only the value **1** so that the model has an intercept term.\n",
    "\n",
    "$$\\boldsymbol{Y} = \\boldsymbol{X}\\boldsymbol{\\beta} + \\boldsymbol{\\varepsilon}$$\n",
    "\n",
    "Implementation Guidelines:\n",
    "\n",
    "- **Arguments:**\n",
    "    - `n`: Number of Observations\n",
    "    - `theta`: A vector of true parameter values up to `p`.\n",
    "    - `noise`: A single value that adds distortion. \n",
    "    - `seed`: Value to generate the data under. \n",
    "- **Return:**\n",
    "    - `X` the design matrix of dimensions `n x p`, with the first column a series of 1s. \n",
    "    - `y` the values observed with added noise.\n",
    "\n",
    "_Hints:_\n",
    "\n",
    "- NumPy has a built in way of generating random data with [`np.random.randn(n, p)`](https://docs.scipy.org/doc/numpy-1.15.1/reference/generated/numpy.random.randn.html)\n",
    "- Moreover, to add a column, consider using [`np.append(new_col, data, 1)`](https://docs.scipy.org/doc/numpy/reference/generated/numpy.append.html).\n",
    "\n",
    "\n",
    "**Note:** _Python_ allows a function to return multiple values by having them prefixed by a comma `,` in the `return` statement. E.g. `return x1, x2` would return both `x1` and `x2`. These values may be unpacked and assigned individually on the same line as a function call:\n",
    "\n",
    "```\n",
    "x_v1, x_v2 = my_function()\n",
    "```\n",
    "\n"
   ]
  },
  {
   "cell_type": "code",
   "execution_count": 113,
   "metadata": {
    "colab": {},
    "colab_type": "code",
    "id": "pm-Eyk11LPTA"
   },
   "outputs": [],
   "source": [
    "# Code\n",
    "def gen_data(n, theta, noise, seed):\n",
    "    \n",
    "    theta = theta.reshape((len(theta),1))\n",
    "    p = theta.shape[0]\n",
    "    \n",
    "    np.random.seed(seed)\n",
    "    \n",
    "    # generate design matrix\n",
    "    X = np.random.rand(n, p)\n",
    "    X[:,0] = 1\n",
    "    \n",
    "    # predict y\n",
    "    y = np.dot(X,theta)\n",
    "    \n",
    "    # add noise randomly\n",
    "    noise = np.random.randint(2, size=n).reshape((n,1)) * noise\n",
    "    y = y + noise\n",
    "    \n",
    "    return X, y\n",
    "    "
   ]
  },
  {
   "cell_type": "code",
   "execution_count": 114,
   "metadata": {},
   "outputs": [],
   "source": [
    "theta = np.array([1,2,3]).reshape((3,1))"
   ]
  },
  {
   "cell_type": "code",
   "execution_count": 115,
   "metadata": {},
   "outputs": [],
   "source": [
    "X,y = gen_data(10, theta, 0.8, 1234)"
   ]
  },
  {
   "cell_type": "code",
   "execution_count": 116,
   "metadata": {},
   "outputs": [
    {
     "data": {
      "text/plain": [
       "(array([[1.        , 0.62210877, 0.43772774],\n",
       "        [1.        , 0.77997581, 0.27259261],\n",
       "        [1.        , 0.80187218, 0.95813935],\n",
       "        [1.        , 0.35781727, 0.50099513],\n",
       "        [1.        , 0.71270203, 0.37025075],\n",
       "        [1.        , 0.50308317, 0.01376845],\n",
       "        [1.        , 0.88264119, 0.36488598],\n",
       "        [1.        , 0.07538124, 0.36882401],\n",
       "        [1.        , 0.65137814, 0.39720258],\n",
       "        [1.        , 0.31683612, 0.56809865]]),\n",
       " array([[3.55740076],\n",
       "        [4.17772943],\n",
       "        [5.47816242],\n",
       "        [3.21861992],\n",
       "        [4.33615632],\n",
       "        [2.84747168],\n",
       "        [4.65994033],\n",
       "        [2.2572345 ],\n",
       "        [3.49436402],\n",
       "        [3.3379682 ]]))"
      ]
     },
     "execution_count": 116,
     "metadata": {},
     "output_type": "execute_result"
    }
   ],
   "source": [
    "X,y"
   ]
  },
  {
   "cell_type": "markdown",
   "metadata": {
    "colab_type": "text",
    "id": "2_81cENrMzDf"
   },
   "source": [
    "**(b) (2 points)** Create a function for obtaining multiple linear regression predictions.\n",
    "\n",
    "Implementation Guidelines:\n",
    "\n",
    "- **Arguments:**\n",
    "    - `X`: A design matrix of dimension `n x p`\n",
    "    - `theta`: A vector holding the parameters `p`.\n",
    "- **Return:**\n",
    "    - A vector of prediction length `n`.\n",
    "\n"
   ]
  },
  {
   "cell_type": "code",
   "execution_count": 127,
   "metadata": {
    "colab": {},
    "colab_type": "code",
    "id": "OGc3dttoZd2G"
   },
   "outputs": [],
   "source": [
    "# Code\n",
    "\n",
    "# im not sure if this question means theta is actual parameter values or estimated parameter values.\n",
    "# hence, i assumed theta means actual paramter values\n",
    "\n",
    "def predict_y(X, theta):\n",
    "    y = X @ theta\n",
    "    theta_hat = np.linalg.inv(X.T @ X) @ X.T @ y\n",
    "    y_hat = X @ theta_hat\n",
    "    return y_hat"
   ]
  },
  {
   "cell_type": "code",
   "execution_count": 122,
   "metadata": {},
   "outputs": [
    {
     "data": {
      "text/plain": [
       "array([[3.55740076],\n",
       "       [3.37772943],\n",
       "       [5.47816242],\n",
       "       [3.21861992],\n",
       "       [3.53615632],\n",
       "       [2.04747168],\n",
       "       [3.85994033],\n",
       "       [2.2572345 ],\n",
       "       [3.49436402],\n",
       "       [3.3379682 ]])"
      ]
     },
     "execution_count": 122,
     "metadata": {},
     "output_type": "execute_result"
    }
   ],
   "source": [
    "y_hat = predict_y(X, theta)\n",
    "y_hat"
   ]
  },
  {
   "cell_type": "markdown",
   "metadata": {
    "colab_type": "text",
    "id": "sKg3A3uSLO40"
   },
   "source": [
    "**(c) (2 points)** Implement the mean squared error cost function for multiple linear regression in Python.\n",
    "\n",
    "Implementation Guidelines:\n",
    "\n",
    "- **Arguments:**\n",
    "    - `X`: A design matrix of dimension `n x p`\n",
    "    - `y`: Vector containing the actual values `n`.\n",
    "    - `theta`: A vector of parameter estimates `p`.\n",
    "- **Return:**\n",
    "    - Single value of cost."
   ]
  },
  {
   "cell_type": "code",
   "execution_count": 125,
   "metadata": {
    "colab": {},
    "colab_type": "code",
    "id": "adGDoVVFMGH6"
   },
   "outputs": [],
   "source": [
    "# Code\n",
    "def mse_cost(X, y, theta_hat):\n",
    "    y_hat = X @ theta_hat\n",
    "    MSE = np.sum(np.power(y_hat - y, 2)) / len(y_hat)\n",
    "    return MSE"
   ]
  },
  {
   "cell_type": "code",
   "execution_count": 126,
   "metadata": {},
   "outputs": [
    {
     "data": {
      "text/plain": [
       "0.04387390799763567"
      ]
     },
     "execution_count": 126,
     "metadata": {},
     "output_type": "execute_result"
    }
   ],
   "source": [
    "theta_hat = np.linalg.inv(X.T @ X) @ X.T @ y\n",
    "mse_cost(X, y, theta_hat)"
   ]
  },
  {
   "cell_type": "markdown",
   "metadata": {
    "colab_type": "text",
    "id": "NOaEK_UNZft1"
   },
   "source": [
    "**(d) (8 points)** Build a function that performs gradient descent for multiple linear regression across all parameters.\n",
    "\n",
    "That is, compute:\n",
    "\n",
    "$$\\theta_j := \\theta_j - \\alpha \\frac{\\partial }{\\partial \\theta_j} J(\\theta_0, \\theta_1, \\cdots, \\theta_p)$$\n",
    "\n",
    "where:\n",
    "\n",
    "$$\\frac{\\partial }{\\partial \\theta_j} J(\\theta_0, \\theta_1, \\cdots, \\theta_p) = \\frac{1}{n} \\sum_{i=1}^n \\left({ x_{ij} \\theta_j  - y_i}\\right)x_{ij}$$\n",
    "\n",
    "Implementation Guidelines:\n",
    "\n",
    "- **Arguments:**\n",
    "    - `X`: A design matrix of dimension `n x p`\n",
    "    - `y`: Vector containing the actual values `n`.\n",
    "    - `theta`: A vector of parameter estimates `p`.\n",
    "    - `alpha`: The learning rate for the problem. \n",
    "     - Default: `0.0001`\n",
    "    -  `epochs`: Number of times to run gradient descent\n",
    "- **Return:**\n",
    "    - `theta_hat`: The estimated values for the parameters.\n",
    "    - `cost`: Final cost value."
   ]
  },
  {
   "cell_type": "code",
   "execution_count": 185,
   "metadata": {
    "colab": {},
    "colab_type": "code",
    "id": "OaSOWMiSZfaj"
   },
   "outputs": [],
   "source": [
    "# Code\n",
    "def gradient_desc(X, y, theta_hat, epochs, alpha = 0.0001):\n",
    "    \n",
    "    n = X.shape[0]\n",
    "    p = len(theta_hat)\n",
    "    print(n,p)\n",
    "    \n",
    "    theta_updates = theta_hat.copy().astype(float)\n",
    "    y_hat = y.copy()\n",
    "    \n",
    "    # perform gradient descent\n",
    "    for i in range(epochs):\n",
    "        \n",
    "        # get y_hat\n",
    "        y_hat = X @ theta_updates\n",
    "        \n",
    "        # perform theta update through gradient descent\n",
    "        for j in range(p):\n",
    "            total = 0\n",
    "            for i in range(n):\n",
    "                \n",
    "                total += (X[i, j] * theta_updates[j,0] - y_hat[i,0]) * X[i, j]\n",
    "                \n",
    "            derivative = total / n\n",
    "            theta_updates[j,0] = theta_updates[j,0] - alpha * derivative\n",
    "            \n",
    "    return theta_updates, mse_cost(X, y, theta_updates)\n",
    "        "
   ]
  },
  {
   "cell_type": "markdown",
   "metadata": {
    "colab_type": "text",
    "id": "gKnGZ8TefMPx"
   },
   "source": [
    "**(e) (4 points)** With the functions in hand, attempt to perform an estimation under conditions:\n",
    "\n",
    "_Scenario 1_:\n",
    "\n",
    "$$\n",
    "\\begin{align}\n",
    "\\theta_0 &= -2.8, \\theta_1 = 1.5\\\\\n",
    "n &= 250, epoch = 500 \\\\\n",
    "\\end{align}\n",
    "$$\n",
    "\n",
    "_Scenario 2_:\n",
    "\n",
    "$$\n",
    "\\begin{align}\n",
    "\\theta_0 &= 0.5, \\theta_1 = -1, \\theta_2 = 2.3 \\\\\n",
    "n &= 100, epoch = 500 \\\\\n",
    "\\end{align}\n",
    "$$\n",
    "\n",
    "**For reproducibility, set a seed using the last four digits of your UIN.**"
   ]
  },
  {
   "cell_type": "code",
   "execution_count": 182,
   "metadata": {},
   "outputs": [
    {
     "name": "stdout",
     "output_type": "stream",
     "text": [
      "250 2\n"
     ]
    },
    {
     "data": {
      "text/plain": [
       "(array([[-2.33511613],\n",
       "        [ 1.18459109]]),\n",
       " 0.18738068299377517)"
      ]
     },
     "execution_count": 182,
     "metadata": {},
     "output_type": "execute_result"
    }
   ],
   "source": [
    "# Scenario 1\n",
    "theta = np.array([[-2.8],[1.5]])\n",
    "\n",
    "X, y = gen_data(n = 250, theta = theta, noise = 0.8, seed = 6729)\n",
    "\n",
    "theta_update, cost = gradient_desc(X = X, y = y, theta_hat = np.array([[-2.7],[1.8]]),\n",
    "                                   epochs = 500, alpha = 0.001)\n",
    "theta_update, cost"
   ]
  },
  {
   "cell_type": "code",
   "execution_count": 186,
   "metadata": {},
   "outputs": [
    {
     "name": "stdout",
     "output_type": "stream",
     "text": [
      "100 3\n"
     ]
    },
    {
     "data": {
      "text/plain": [
       "(array([[1.68981841],\n",
       "        [1.7455524 ],\n",
       "        [2.47500685]]),\n",
       " 5.294423578701742)"
      ]
     },
     "execution_count": 186,
     "metadata": {},
     "output_type": "execute_result"
    }
   ],
   "source": [
    "# Scenario 2\n",
    "theta = np.array([[0.5],[-1.0],[2.3]])\n",
    "\n",
    "X, y = gen_data(n = 100, theta = theta, noise = 0.8, seed = 6729)\n",
    "\n",
    "theta_update, cost = gradient_desc(X = X, y = y, theta_hat = np.array([[0.8],[1.2],[2.0]]),\n",
    "                                   epochs = 500, alpha = 0.001)\n",
    "theta_update, cost"
   ]
  },
  {
   "cell_type": "markdown",
   "metadata": {
    "colab_type": "text",
    "id": "N6M2KBJC4-V5"
   },
   "source": [
    "## [15 points] Exercise 3 - Make a Plan\n",
    "\n"
   ]
  },
  {
   "cell_type": "markdown",
   "metadata": {
    "colab_type": "text",
    "id": "ApHRUbf79TLU"
   },
   "source": [
    "Consider a neural network being built to classify color images of size 4 x 3 x 3 into 4 different categories. The architecture of the network has two hidden layers with 5 nodes in the first and 3 nodes in second layer.\n",
    "\n",
    "**(a) (5 Points)** Sketch the network with all connections. Make sure to include bias nodes for each layer.\n",
    "\n",
    "**(b) (10 Points)** Write the equations for each layer of the neural network. Make sure to specify the dimensions expected for each equation."
   ]
  },
  {
   "cell_type": "markdown",
   "metadata": {
    "colab_type": "text",
    "id": "Grw-rR8dTnCS"
   },
   "source": [
    "![alt text](./Exercise_3.jpeg)"
   ]
  },
  {
   "cell_type": "markdown",
   "metadata": {
    "colab_type": "text",
    "id": "n5GHp5LOT_KQ"
   },
   "source": [
    "## [14 Points] Exercise 4 - Neuron by Hand\n",
    "\n",
    "Consider a single neuron that takes $z = b + w_1 x_1 + w_2 x_2$ and has an activation function of $\\operatorname{relu}(x)$.\n",
    "\n",
    "**(a) (6 Points)** Sketch out a computational graph that shows how the computation is being performed.\n",
    "\n",
    "**(b) (2 Points)** Perform a forward propagation step given data:\n",
    "\n",
    "$$\n",
    "\\begin{align}\n",
    "b &= 1.2 \\\\\n",
    "w_1 &= 0.3, w_2 = 0.5 \\\\\n",
    "x_1 &= 1, x_2 = 2 \\\\\n",
    "\\end{align}\n",
    "$$\n",
    "\n",
    "**(c) (6 Points)** Compute the partial derivatives for backward propagation."
   ]
  },
  {
   "cell_type": "markdown",
   "metadata": {
    "colab_type": "text",
    "id": "n1B4Skt5iitV"
   },
   "source": [
    "... Upload drawing image ...\n",
    "\n",
    "![alt text](./Exercise_4.jpeg)"
   ]
  },
  {
   "cell_type": "code",
   "execution_count": null,
   "metadata": {},
   "outputs": [],
   "source": []
  }
 ],
 "metadata": {
  "colab": {
   "collapsed_sections": [],
   "name": "hw02-assign.ipynb",
   "provenance": []
  },
  "kernelspec": {
   "display_name": "Python 3",
   "language": "python",
   "name": "python3"
  },
  "language_info": {
   "codemirror_mode": {
    "name": "ipython",
    "version": 3
   },
   "file_extension": ".py",
   "mimetype": "text/x-python",
   "name": "python",
   "nbconvert_exporter": "python",
   "pygments_lexer": "ipython3",
   "version": "3.7.3"
  }
 },
 "nbformat": 4,
 "nbformat_minor": 4
}
