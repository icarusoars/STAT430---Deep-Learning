{
  "nbformat": 4,
  "nbformat_minor": 0,
  "metadata": {
    "colab": {
      "name": "hw04-assign.ipynb",
      "provenance": [],
      "collapsed_sections": [],
      "toc_visible": true
    },
    "kernelspec": {
      "display_name": "Python 3",
      "language": "python",
      "name": "python3"
    },
    "language_info": {
      "codemirror_mode": {
        "name": "ipython",
        "version": 3
      },
      "file_extension": ".py",
      "mimetype": "text/x-python",
      "name": "python",
      "nbconvert_exporter": "python",
      "pygments_lexer": "ipython3",
      "version": "3.7.3"
    },
    "accelerator": "GPU"
  },
  "cells": [
    {
      "cell_type": "markdown",
      "metadata": {
        "colab_type": "text",
        "id": "mKG2r_QRX5Px"
      },
      "source": [
        "# Overview \n",
        "\n",
        "Please see the [homework policy](https://fdl.thecoatlessprofessor.com/syllabus/#homework)\n",
        "for detailed instructions and some grading notes. Failure to follow instructions\n",
        "will result in point reductions. In particular, make sure to commit each \n",
        "exercise as you complete them. \n",
        "\n",
        "> \"Machine intelligence is the last invention that humanity will ever need to make.\"\n",
        ">\n",
        "> -- Nick Bostrom\n",
        "\n",
        "## Grading\n",
        "\n",
        "The rubric CAs will use to grade this assignment is:\n",
        "\n",
        "| Task                                                   | Pts |\n",
        "|:-------------------------------------------------------|----:|\n",
        "| Making a Homemade Neural Network from Scratch!         | 100 |\n",
        "| Cruisin' Keras                                         | 20  |\n",
        "| PyTorch et al are friends not food                     | 30  |\n",
        "| Total                                                  | 150 |\n",
        "\n",
        "## Objectives \n",
        "\n",
        "The objectives behind this homework assignment are as follows:\n",
        "\n",
        "- Implement functions in Python;\n",
        "- Constructing neural networks;\n",
        "- Designing PyTorch modules; and\n",
        "- Establishing sequential layers with Keras."
      ]
    },
    {
      "cell_type": "markdown",
      "metadata": {
        "colab_type": "text",
        "id": "9XEKpojMyMB1"
      },
      "source": [
        "# Assignment - Homework 4\n",
        "STAT 430 - FDL, Spring 2020\n",
        "\n",
        "Due: **Sunday, April 12th, 2020 at 6:00 PM**\n",
        "\n",
        "- **Author: Skyler Shi**\n",
        "- **NetID: jingtao2** \n",
        "\n",
        "### Collaborators\n",
        "\n",
        "If you worked with any other student in preparing these answers, please\n",
        "make sure to list their full names and NetIDs (e.g. `FirstName LastName (NetID)` ).\n"
      ]
    },
    {
      "cell_type": "code",
      "metadata": {
        "colab_type": "code",
        "id": "U5YYth3yyVsm",
        "outputId": "73d0c3fa-8a37-40bf-ba7e-92581da7d746",
        "colab": {
          "base_uri": "https://localhost:8080/",
          "height": 153
        }
      },
      "source": [
        "print(\"Diagnostics: \")\n",
        "\n",
        "try:\n",
        "  from google.colab import drive\n",
        "  is_google_colab = True\n",
        "  import sys\n",
        "  import pandas as pd\n",
        "  import numpy as np\n",
        "\n",
        "  %tensorflow_version 2.x\n",
        "  import tensorflow as tf\n",
        "\n",
        "  import torch\n",
        "  import torch.nn as nn\n",
        "  import torch.nn.functional as F\n",
        "  import torch.optim as optim\n",
        "  from torchvision import datasets, transforms\n",
        "  from torch.optim.lr_scheduler import StepLR\n",
        "  # Detect if a GPU is present with CUDA support\n",
        "  use_cuda = torch.cuda.is_available()\n",
        "\n",
        "  print(f\"python: {sys.version}\")\n",
        "  print(f\"pandas: {np.__version__}\")\n",
        "  print(f\"tensorflow: {tf.__version__}\")\n",
        "  print(f\"pytorch: {torch.__version__}\")\n",
        "  print(f\"GPU Enabled: {use_cuda}\")\n",
        "  print(\"Notebook is on Google CoLab\")\n",
        "except:\n",
        "  is_google_colab = False\n",
        "  print(\"Notebook is being run locally or through another source.\")"
      ],
      "execution_count": 2,
      "outputs": [
        {
          "output_type": "stream",
          "text": [
            "Diagnostics: \n",
            "python: 3.6.9 (default, Nov  7 2019, 10:44:02) \n",
            "[GCC 8.3.0]\n",
            "pandas: 1.18.2\n",
            "tensorflow: 2.2.0-rc3\n",
            "pytorch: 1.4.0\n",
            "GPU Enabled: True\n",
            "Notebook is on Google CoLab\n"
          ],
          "name": "stdout"
        }
      ]
    },
    {
      "cell_type": "code",
      "metadata": {
        "id": "Y7YKfI5KHLVI",
        "colab_type": "code",
        "colab": {}
      },
      "source": [
        "import pandas as pd\n",
        "import numpy as np\n",
        "import matplotlib.pyplot as plt\n",
        "\n",
        "import tensorflow as tf\n",
        "\n",
        "import torch\n",
        "import torch.nn as nn\n",
        "import torch.nn.functional as F\n",
        "import torch.optim as optim\n",
        "# from torchvision import datasets, transforms\n",
        "from torch.optim.lr_scheduler import StepLR"
      ],
      "execution_count": 0,
      "outputs": []
    },
    {
      "cell_type": "markdown",
      "metadata": {
        "colab_type": "text",
        "id": "OaHGju8mV4ER"
      },
      "source": [
        "## [50 points] Exercise 1 - Making a Homemade Neural Network from Scratch!\n",
        "\n",
        "In this exercise block, we'll build a neural network that consists of two hidden layers and an output layer.\n",
        "\n",
        "In the first and second hidden layers, there will be _unknown_ number of neurons. Let the neurons in the first hidden layer be denoted as $n_j^{(1)}$. Within the second hidden layer and output layer, let there be $n_c^{(2)}$ neurons. Both hidden layers should include a bias term to make the counts respectively $n_j^{(1)} + 1$ and $n_c^{(2)} + 1$.  For the non-linear activation functions, let the first hidden layer use \n",
        "$g^{(1)} (x) = \\mathrm{ReLU}(x)$, the second hidden layer be $g^{(2)} (x) = \\sigma(x)$. Finally, in the output layer, apply the $\\mathrm{softmax}(x)$ to obtain exactly $n_c^{(2)}$ neurons that correspond to $C$ classes. \n",
        "\n",
        "We'll use the categorical cross-entropy cost function of \n",
        "\n",
        "$$\n",
        "J\\left(\\boldsymbol{W}\\right) = -\\frac{1}{N} \\sum_{i=1}^{N} { \\sum_{c=1}^{C} { y_{ic} \\log\\left({ \\hat y_{ic} }\\right)  }}\n",
        "$$\n",
        "\n",
        "where,\n",
        "\n",
        "- $\\boldsymbol{W}$ represents the weights of the neural network -- including the bias term,\n",
        "- $N$ represents the number of examples the network is being trained with,\n",
        "- $y_{ic}$ is the true label in $c \\in C$, and;\n",
        "- $\\hat y_{ic}$ is the predicted label probability in $c \\in C$.\n",
        "\n",
        "Within this part, we'll construct functions that: \n",
        "\n",
        "1. Initialize the parameters of the network.\n",
        "1. Train\n",
        "  - Perform forward propagation\n",
        "  - Compute cost function\n",
        "  - Perform backward propagation\n",
        "  - Update network parameters\n",
        "1. Predict\n",
        "\n",
        "\n"
      ]
    },
    {
      "cell_type": "markdown",
      "metadata": {
        "colab_type": "text",
        "id": "iAJAIGQUgtpr"
      },
      "source": [
        "### (a) (10 points) Sketching the computational graph\n",
        "\n",
        "Sketch the computational graph for the described neural network. For each layer on the graph, write out the forward propagation equations in matrix equation form. \n",
        "\n"
      ]
    },
    {
      "cell_type": "markdown",
      "metadata": {
        "id": "YMxAUIlBHLVM",
        "colab_type": "text"
      },
      "source": [
        "![alt text](https://github.com/icarusoars/STAT430---Deep-Learning/blob/master/HW4/1.a2.jpeg?raw=1)"
      ]
    },
    {
      "cell_type": "markdown",
      "metadata": {
        "id": "byrKDUsKHLVM",
        "colab_type": "text"
      },
      "source": [
        "**Note**: the bias matrices should get broadcasted in numpy"
      ]
    },
    {
      "cell_type": "markdown",
      "metadata": {
        "colab_type": "text",
        "id": "d-jwPNmRhKC6"
      },
      "source": [
        "![alt text](https://github.com/icarusoars/STAT430---Deep-Learning/blob/master/HW4/1.a.jpeg?raw=1)"
      ]
    },
    {
      "cell_type": "markdown",
      "metadata": {
        "colab_type": "text",
        "id": "9T_HQIIwmuB2"
      },
      "source": [
        "### (b) (10 points) Deriving the backward propagation equations\n",
        "\n",
        "Within this step, derive the backward propagation equations for the network\n",
        "by obtaining the necessary partial derivatives.\n",
        "\n"
      ]
    },
    {
      "cell_type": "markdown",
      "metadata": {
        "id": "i_gRIVctHLVO",
        "colab_type": "text"
      },
      "source": [
        "![alt text](https://github.com/icarusoars/STAT430---Deep-Learning/blob/master/HW4/1.b.jpeg?raw=1)"
      ]
    },
    {
      "cell_type": "markdown",
      "metadata": {
        "colab_type": "text",
        "id": "sB3jHSalEfPl"
      },
      "source": [
        "### (c) (5 points) Training Data Reshaping\n",
        "\n",
        "Reshaping data is a common requirement for working with neural networks. Previously, the assumption about data in neural networks\n",
        "was that there is exactly _one_ example or image. In practice, there needs to\n",
        "be a large amount of data for the neural network to function. Previously, $X$ was defined to be a single input vector: \n",
        "\n",
        "$$\n",
        "X_{m \\times 1} = \\begin{bmatrix}\n",
        "\\vert \\\\\n",
        "X^{[1]}  \\\\\n",
        "\\vert  \\\\\n",
        "\\end{bmatrix}_{m \\times 1}\n",
        "$$\n",
        "\n",
        "To enable multiple training examples, let's define $X$ to be:\n",
        "\n",
        "$$\n",
        "X_{m \\times n_e} = \\begin{bmatrix}\n",
        "\\vert & \\vert & \\vert \\\\\n",
        "X^{[1]} & X^{[2]} & X^{[3]} \\\\\n",
        "\\vert & \\vert & \\vert \\\\\n",
        "\\end{bmatrix}_{m \\times n_e}\n",
        "$$\n",
        "\n",
        "where $m$ is the number of inputs and $n_e$ is the number of observations. Therefore, $Z^{(1)}$ would now look like:\n",
        "\n",
        "$$\n",
        "Z^{(1)} = \\begin{bmatrix}\n",
        "\\vert & \\vert & \\vert \\\\\n",
        "Z^{(1)[1]} & Z^{(1)[2]} & Z^{(1)[3]} \\\\\n",
        "\\vert & \\vert & \\vert \\\\\n",
        "\\end{bmatrix}_{n_h \\times n_e}\n",
        "$$\n",
        "\n",
        "Let the parentheses -- $()$ -- denote the layer number and the square brackets\n",
        "-- $[]$ -- be the training data example.\n",
        "\n",
        "Having said this, please reshape the MNIST training data from:\n",
        "\n",
        "$$\\text{Examples }\\times \\text{Height } \\times \\text{Width }$$\n",
        "\n",
        "To being shaped as:\n",
        "\n",
        "$$\\underbrace{\\left(\\text{Height } \\cdot \\text{Width }\\right)}_{=m} \\times \\underbrace{\\text{Examples }}_{=n_e}$$\n",
        "\n",
        "\n",
        "Through this process, the data is being flattened:\n",
        "\n",
        "$$\\underbrace{\\left(\\text{Height } \\cdot \\text{Width }\\right)}_{=m}$$\n",
        "\n",
        "_Hints:_\n",
        "\n",
        "- Change a data's shape is possible with [`np.reshape(data, (-1, data.shape[0]))`](https://docs.scipy.org/doc/numpy/reference/generated/numpy.reshape.html#numpy.reshape)\n",
        "- Arrays can be transposed with [`data.T`](https://docs.scipy.org/doc/numpy/reference/generated/numpy.ndarray.T.html)\n",
        "\n",
        "When in doubt, work with a small example first, before the full data.\n",
        "\n",
        "\n"
      ]
    },
    {
      "cell_type": "code",
      "metadata": {
        "colab_type": "code",
        "id": "uOuMoDie0qvo",
        "colab": {
          "base_uri": "https://localhost:8080/",
          "height": 306
        },
        "outputId": "689cf26f-1980-45f1-8363-0ad165c20c94"
      },
      "source": [
        "import numpy as np\n",
        "a = np.arange(24).reshape((4, 3, 2))\n",
        "b = np.arange(3)\n",
        "print(a)\n",
        "print()\n",
        "print(b)"
      ],
      "execution_count": 30,
      "outputs": [
        {
          "output_type": "stream",
          "text": [
            "[[[ 0  1]\n",
            "  [ 2  3]\n",
            "  [ 4  5]]\n",
            "\n",
            " [[ 6  7]\n",
            "  [ 8  9]\n",
            "  [10 11]]\n",
            "\n",
            " [[12 13]\n",
            "  [14 15]\n",
            "  [16 17]]\n",
            "\n",
            " [[18 19]\n",
            "  [20 21]\n",
            "  [22 23]]]\n",
            "\n",
            "[0 1 2]\n"
          ],
          "name": "stdout"
        }
      ]
    },
    {
      "cell_type": "code",
      "metadata": {
        "id": "yRsssNCuHLVS",
        "colab_type": "code",
        "colab": {
          "base_uri": "https://localhost:8080/",
          "height": 119
        },
        "outputId": "f614dc06-4bbb-4688-bfa6-c7af94b9e846"
      },
      "source": [
        "np.reshape(a, (4,-1)).T"
      ],
      "execution_count": 31,
      "outputs": [
        {
          "output_type": "execute_result",
          "data": {
            "text/plain": [
              "array([[ 0,  6, 12, 18],\n",
              "       [ 1,  7, 13, 19],\n",
              "       [ 2,  8, 14, 20],\n",
              "       [ 3,  9, 15, 21],\n",
              "       [ 4, 10, 16, 22],\n",
              "       [ 5, 11, 17, 23]])"
            ]
          },
          "metadata": {
            "tags": []
          },
          "execution_count": 31
        }
      ]
    },
    {
      "cell_type": "code",
      "metadata": {
        "colab_type": "code",
        "id": "EfUQFLEhjvpO",
        "colab": {}
      },
      "source": [
        "# %tensorflow_version 2.x\n",
        "import tensorflow as tf\n",
        "\n",
        "fashion_mnist = tf.keras.datasets.fashion_mnist\n",
        "\n",
        "# Load the MNIST data via a helper\n",
        "(x_train, y_train), (x_test, y_test) = fashion_mnist.load_data()\n",
        "# Perform scaling\n",
        "x_train, x_test = x_train / 255.0, x_test / 255.0"
      ],
      "execution_count": 0,
      "outputs": []
    },
    {
      "cell_type": "code",
      "metadata": {
        "id": "jB2W0GjVHLVZ",
        "colab_type": "code",
        "colab": {
          "base_uri": "https://localhost:8080/",
          "height": 34
        },
        "outputId": "3dfbd4ec-8312-4673-9d46-f9d13206d170"
      },
      "source": [
        "x_train.shape"
      ],
      "execution_count": 33,
      "outputs": [
        {
          "output_type": "execute_result",
          "data": {
            "text/plain": [
              "(60000, 28, 28)"
            ]
          },
          "metadata": {
            "tags": []
          },
          "execution_count": 33
        }
      ]
    },
    {
      "cell_type": "code",
      "metadata": {
        "id": "qVQPkbggHLVd",
        "colab_type": "code",
        "colab": {
          "base_uri": "https://localhost:8080/",
          "height": 34
        },
        "outputId": "248141bb-6388-4d6c-9873-920f6e9a6688"
      },
      "source": [
        "x_train = np.reshape(x_train, (x_train.shape[0],-1)).T\n",
        "x_train.shape"
      ],
      "execution_count": 34,
      "outputs": [
        {
          "output_type": "execute_result",
          "data": {
            "text/plain": [
              "(784, 60000)"
            ]
          },
          "metadata": {
            "tags": []
          },
          "execution_count": 34
        }
      ]
    },
    {
      "cell_type": "code",
      "metadata": {
        "id": "yg-fQM7VHLVh",
        "colab_type": "code",
        "colab": {
          "base_uri": "https://localhost:8080/",
          "height": 34
        },
        "outputId": "e786aff2-5c2c-45f1-fef5-3adb7f5515a1"
      },
      "source": [
        "x_test.shape"
      ],
      "execution_count": 35,
      "outputs": [
        {
          "output_type": "execute_result",
          "data": {
            "text/plain": [
              "(10000, 28, 28)"
            ]
          },
          "metadata": {
            "tags": []
          },
          "execution_count": 35
        }
      ]
    },
    {
      "cell_type": "code",
      "metadata": {
        "id": "FAwzI10THLVl",
        "colab_type": "code",
        "colab": {
          "base_uri": "https://localhost:8080/",
          "height": 34
        },
        "outputId": "61f9eaac-7806-4427-ce02-7fc67e1fee68"
      },
      "source": [
        "x_test = np.reshape(x_test, (x_test.shape[0],-1)).T\n",
        "x_test.shape"
      ],
      "execution_count": 36,
      "outputs": [
        {
          "output_type": "execute_result",
          "data": {
            "text/plain": [
              "(784, 10000)"
            ]
          },
          "metadata": {
            "tags": []
          },
          "execution_count": 36
        }
      ]
    },
    {
      "cell_type": "code",
      "metadata": {
        "id": "09kP1p8WHLVo",
        "colab_type": "code",
        "colab": {
          "base_uri": "https://localhost:8080/",
          "height": 34
        },
        "outputId": "3db833a2-2f9a-408f-814f-003db620ca29"
      },
      "source": [
        "# Code here\n",
        "\n",
        "\n",
        "# Grading helper:\n",
        "print(f'X has dimensions: {x_train.shape}')"
      ],
      "execution_count": 37,
      "outputs": [
        {
          "output_type": "stream",
          "text": [
            "X has dimensions: (784, 60000)\n"
          ],
          "name": "stdout"
        }
      ]
    },
    {
      "cell_type": "markdown",
      "metadata": {
        "colab_type": "text",
        "id": "2jPbd7Mayonm"
      },
      "source": [
        "### (d) (5 points) Test Data Reshaping\n",
        "\n",
        "Encode the label data ($Y$) using one-hot encoding. \n",
        "\n",
        "The data has the following labels:\n",
        "\n",
        "| Label|Class       |\n",
        "|-----:|:-----------|\n",
        "|     0|T-shirt/top |\n",
        "|     1|Trouser     |\n",
        "|     2|Pullover    |\n",
        "|     3|Dress       |\n",
        "|     4|Coat        |\n",
        "|     5|Sandal      |\n",
        "|     6|Shirt       |\n",
        "|     7|Sneaker     |\n",
        "|     8|Bag         |\n",
        "|     9|Ankle boot  |\n",
        "\n"
      ]
    },
    {
      "cell_type": "code",
      "metadata": {
        "id": "UJpOUg5mHLVv",
        "colab_type": "code",
        "colab": {
          "base_uri": "https://localhost:8080/",
          "height": 34
        },
        "outputId": "fc33b13f-18f7-4f20-c59a-72213753f802"
      },
      "source": [
        "y_train = pd.get_dummies(y_train).to_numpy()\n",
        "y_train.shape"
      ],
      "execution_count": 38,
      "outputs": [
        {
          "output_type": "execute_result",
          "data": {
            "text/plain": [
              "(60000, 10)"
            ]
          },
          "metadata": {
            "tags": []
          },
          "execution_count": 38
        }
      ]
    },
    {
      "cell_type": "code",
      "metadata": {
        "id": "Dymu8no-HLWL",
        "colab_type": "code",
        "colab": {
          "base_uri": "https://localhost:8080/",
          "height": 34
        },
        "outputId": "caa1a024-5762-42d8-9aa2-a4836bb312c3"
      },
      "source": [
        "y_test = pd.get_dummies(y_test).to_numpy()\n",
        "y_test.shape"
      ],
      "execution_count": 39,
      "outputs": [
        {
          "output_type": "execute_result",
          "data": {
            "text/plain": [
              "(10000, 10)"
            ]
          },
          "metadata": {
            "tags": []
          },
          "execution_count": 39
        }
      ]
    },
    {
      "cell_type": "code",
      "metadata": {
        "colab_type": "code",
        "id": "pZfyz4od8oVl",
        "colab": {
          "base_uri": "https://localhost:8080/",
          "height": 51
        },
        "outputId": "cb08488e-1307-4bd4-8b32-d4aa60b8fc27"
      },
      "source": [
        "# Code here\n",
        "\n",
        "\n",
        "\n",
        "\n",
        "# Grading helper\n",
        "print(f'Y has dimensions: {y_train.shape}')\n",
        "print(f'Number of Images: {y_train.shape[0]}')"
      ],
      "execution_count": 40,
      "outputs": [
        {
          "output_type": "stream",
          "text": [
            "Y has dimensions: (60000, 10)\n",
            "Number of Images: 60000\n"
          ],
          "name": "stdout"
        }
      ]
    },
    {
      "cell_type": "markdown",
      "metadata": {
        "colab_type": "text",
        "id": "1tOycmv9RKeF"
      },
      "source": [
        "### (e) (5 points) He initialization\n",
        "\n",
        "Create a function to initialize weight parameters for a given layer in the neural network. The weight initialization should use [He's initialization](https://arxiv.org/abs/1502.01852) given by:\n",
        "\n",
        "$$\n",
        "\\begin{align*}\n",
        "W &\\sim N(0, 1) \\\\\n",
        "W &:= W\\sqrt{\\frac{2}{n^{(l-1)}}}\n",
        "\\end{align*}\n",
        "$$\n",
        "\n",
        "where $N(0,1)$ is the standard normal distribution, $n^{(l-1)}$ denotes the number of input weights, and $n^{(l)}$ is the\n",
        "number of output weights.\n",
        "\n",
        "Implementation Guidelines:\n",
        "\n",
        "- **Arguments:**\n",
        "    - `n_in`: Number of input weights\n",
        "    - `n_out`: Number of output weights\n",
        "- **Return:**\n",
        "    - `W` a matrix of dimension $n^{(l)} \\times n^{(l-1)}$\n",
        "\n",
        "_Hints:_ NumPy has a built in way of generating random data with [`np.random.randn(n, p)`](https://numpy.org/doc/1.18/reference/random/generated/numpy.random.randn.html)\n",
        "\n",
        "---\n",
        "\n"
      ]
    },
    {
      "cell_type": "code",
      "metadata": {
        "colab_type": "code",
        "id": "rOCkiOCVHyUk",
        "colab": {}
      },
      "source": [
        "# Code Here\n",
        "def init_layer_weights(n_in, n_out):\n",
        "    return np.random.randn(n_out, n_in) * np.sqrt(2 / n_in)"
      ],
      "execution_count": 0,
      "outputs": []
    },
    {
      "cell_type": "markdown",
      "metadata": {
        "colab_type": "text",
        "id": "Y_ljdhD5RNyR"
      },
      "source": [
        "### (f) (5 points) Parameter Initialization\n",
        "\n",
        "Using the function in **(e)** construct a function \n",
        "that initializes both the weights and the bias terms for each layer. The bias values should be initialized with 0 and the weights should be initialized with the function developed in **(e)**.\n",
        "\n",
        "Implementation Guidelines:\n",
        "\n",
        "- **Arguments:**\n",
        "    - `m`: Number of input neurons\n",
        "    - `n_h`: Number of hidden neurons\n",
        "    - `n_y`: Number of output neurons\n",
        "- **Return:**\n",
        "    - `cache_parameters` with a dictionary data structure that contains:\n",
        "       - `W^(1)` a matrix of dimension `n_h X m`\n",
        "       - `b^(1)` a matrix of dimension `n_h X 1`\n",
        "       - `W^(2)` a matrix of dimension `n_y X n_h`\n",
        "       - `b^(2)` a matrix of dimension `n_y X 1`\n",
        "\n",
        "_Hint:_ \n",
        "\n",
        "- NumPy has a built in way of generating a zero vector with [`np.zeros((n, p))`](https://numpy.org/doc/1.18/reference/generated/numpy.zeros.html)"
      ]
    },
    {
      "cell_type": "code",
      "metadata": {
        "colab_type": "code",
        "id": "fZ97Ta3ERNhZ",
        "colab": {}
      },
      "source": [
        "# Code here\n",
        "# n_j is number of hidden neurons\n",
        "# n_c is number of output neurons\n",
        "# doing this for consistency\n",
        "def initialize_weights_biases(m, n_j, n_c):\n",
        "    return {\n",
        "        'W1': init_layer_weights(n_out = n_j, n_in = m),\n",
        "        'b1': np.zeros((n_j, 1)),\n",
        "        'W2': init_layer_weights(n_out = n_c, n_in = n_j),\n",
        "        'b2': np.zeros((n_c,1))\n",
        "    }"
      ],
      "execution_count": 0,
      "outputs": []
    },
    {
      "cell_type": "markdown",
      "metadata": {
        "colab_type": "text",
        "id": "V1ltf2EIHy17"
      },
      "source": [
        "### (g) (10 points) Activation Functions\n",
        "\n",
        "Implement the ReLU, Sigmoid, and Softmax activation functions alongside their derivatives.\n",
        "\n",
        "Implementation Guidelines for each function:\n",
        "\n",
        "- **Arguments:**\n",
        "    - `X` a matrix of dimension `a X b`.\n",
        "- **Return:**\n",
        "    - Appropriately \"activated\" or \"derivative\" matrix of dimension `a X b`\n",
        "\n",
        "\n"
      ]
    },
    {
      "cell_type": "code",
      "metadata": {
        "colab_type": "code",
        "id": "cs-Pl34dIDYU",
        "colab": {}
      },
      "source": [
        "def relu(z):\n",
        "    # Code Here\n",
        "    return np.maximum(z, 0)\n",
        "\n",
        "def relu_prime(z):\n",
        "    # Code here\n",
        "    prime = z\n",
        "    prime[prime <= 0] = 0\n",
        "    prime[prime > 0] = 1\n",
        "    return prime\n",
        "\n",
        "def sigmoid(z):\n",
        "    # Code here\n",
        "    return 1 / (1 + np.exp(-z))\n",
        "\n",
        "def sigmoid_prime(z):\n",
        "    # Code here\n",
        "    prime = sigmoid(z) * (1 - sigmoid(z))\n",
        "    return prime\n",
        "\n",
        "def softmax(z):\n",
        "    # Code here\n",
        "    shiftz = z - np.max(z, axis = 0)\n",
        "    exps = np.exp(shiftz)\n",
        "    return exps / np.sum(exps, axis = 0)\n",
        "\n",
        "\n",
        "# def softmax_prime(z):\n",
        "#     # Code here\n",
        "#     prime = np.multiply(softmax(z), 1 - softmax(z))\n",
        "#     return prime\n"
      ],
      "execution_count": 0,
      "outputs": []
    },
    {
      "cell_type": "markdown",
      "metadata": {
        "colab_type": "text",
        "id": "FqyZe-QtIQUU"
      },
      "source": [
        "### (h) (10 points) Forward propagation\n",
        "\n",
        "Implement a function that performs the forward propagation\n",
        "and caches (saves) the value computed at each node on the computational graph. \n",
        "\n",
        "Implementation Guidelines:\n",
        "\n",
        "- **Arguments:**\n",
        "    - `X` a matrix of dimension `m X n_e`.\n",
        "    - `cache_parameters` with a dictionary data structure.\n",
        "- **Return:**\n",
        "    - `SM` a matrix of dimension `n_y X n_e`\n",
        "    - `cache_forward` with a dictionary data structure that contains:\n",
        "       - `Z^{(1)}`\n",
        "       - `A^{(1)}`\n",
        "       - `Z^{(2)}`\n",
        "       - `A^{(2)}`\n",
        "       - `SM`\n",
        "\n",
        "_Note:_ $A^{(2)} \\rightarrow SM$ to provide the softmax output that gives $\\hat y$. \n",
        "\n",
        "\n",
        "_Hint:_\n",
        "\n",
        "- Recall that items in a dictionary data structure can be accessed with `data[\"item\"]`.\n"
      ]
    },
    {
      "cell_type": "code",
      "metadata": {
        "colab_type": "code",
        "id": "6DJCHduKIQsC",
        "colab": {}
      },
      "source": [
        "# Code here\n",
        "def forward_prop(X, cache_parameters):\n",
        "    W1 = cache_parameters['W1']\n",
        "    b1 = cache_parameters['b1']\n",
        "    W2 = cache_parameters['W2']\n",
        "    b2 = cache_parameters['b2']\n",
        "    \n",
        "    Z1 = W1 @ X + b1      # (n_j X m)  @  (m X n_e)  +  (n_j, 1)  =  (n_j X n_e)\n",
        "    A1 = relu(Z1)         # (n_j X n_e)\n",
        "    Z2 = W2 @ A1 + b2     # (n_c X n_j)  @  (n_j X n_e)  +  (n_c, 1)  =  (n_c X n_e)\n",
        "    A2 = sigmoid(Z2)      # (n_c X n_e)\n",
        "    SM = softmax(A2)      # (n_c X n_e)\n",
        "    \n",
        "    return SM, {\n",
        "        'Z1': Z1,\n",
        "        'A1': A1,\n",
        "        'Z2': Z2,\n",
        "        'A2': A2,\n",
        "        'SM': SM\n",
        "    }\n",
        "    "
      ],
      "execution_count": 0,
      "outputs": []
    },
    {
      "cell_type": "markdown",
      "metadata": {
        "colab_type": "text",
        "id": "TBjuQYYQRnyK"
      },
      "source": [
        "**Why is it important to store the values computed in the prediction step?**"
      ]
    },
    {
      "cell_type": "markdown",
      "metadata": {
        "colab_type": "text",
        "id": "1doOOF-JYoVg"
      },
      "source": [
        "We need to store the values in forward propagation so we can update them during back propagation. Otherwise we wouldn't know what weights and bias values to update. The weights update formula requires **current weights** and the current derivative."
      ]
    },
    {
      "cell_type": "markdown",
      "metadata": {
        "colab_type": "text",
        "id": "fkApLxJLRptJ"
      },
      "source": [
        "### (i) (10 points) Backward propagation\n",
        "\n",
        "Implement a function that performs the backward propagation\n",
        "at each node on the computational graph. \n",
        "\n",
        "\n",
        "- **Arguments:**\n",
        "    - `Y` a matrix of dimension `n_e X n_c`.\n",
        "    - `X` a matrix of dimension `m X n_e`.\n",
        "    - `cache_parameters` a data dictionary.\n",
        "    - `cache_forward` a data dictionary.\n",
        "- **Return:**\n",
        "    - `cache_grad` with a dictionary data structure that contains:\n",
        "       - `dW2`\n",
        "       - `db2`\n",
        "       - `dW1`\n",
        "       - `db1`"
      ]
    },
    {
      "cell_type": "code",
      "metadata": {
        "id": "8k4GTivaHLWi",
        "colab_type": "code",
        "colab": {}
      },
      "source": [
        "# Code here\n",
        "def backward_prop(Y_actual, X, cache_parameters, cache_forward):\n",
        "    Z2, Z1, A2, A1 = cache_forward['Z2'], cache_forward['Z1'], cache_forward['A2'], cache_forward['A1']\n",
        "    SM = cache_forward['SM']\n",
        "    W2 = cache_parameters['W2']         #n_c X n_j\n",
        "    \n",
        "\n",
        "    delta1 = 1 / Y_actual.shape[0] * np.multiply((SM.T - Y_actual), sigmoid_prime(Z2).T)       # n_e X n_c\n",
        "    #                                                n_e X n_c           n_e X n_c \n",
        "    \n",
        "    dW2 = delta1.T @ A1.T                                                 # n_c X n_j\n",
        "    #     n_c X n_e  n_e X n_j\n",
        "    \n",
        "    db2 = np.sum(delta1.T, axis = 1, keepdims = True)                     # n_c X 1\n",
        "    #             n_c X n_e\n",
        "    \n",
        "    delta2 = np.multiply(delta1 @ W2, relu_prime(Z1).T)                   # n_e X n_j\n",
        "    #              n_e X n_c  n_c X n_j     n_e X n_j\n",
        "     \n",
        "    dW1 = delta2.T @ X.T                                                  # n_j X m\n",
        "    db1 = np.sum(delta2.T, axis = 1, keepdims = True)                       # n_j X 1\n",
        "    \n",
        "    \n",
        "    return {\n",
        "        'dW2': dW2,\n",
        "        'db2': db2,\n",
        "        'dW1': dW1,\n",
        "        'db1': db1\n",
        "    }"
      ],
      "execution_count": 0,
      "outputs": []
    },
    {
      "cell_type": "code",
      "metadata": {
        "colab_type": "code",
        "id": "z3x6MU63SH82",
        "colab": {}
      },
      "source": [
        "# Code here\n",
        "def backward_prop(Y_actual, X, cache_parameters, cache_forward):\n",
        "    Z2, Z1, A2, A1 = cache_forward['Z2'], cache_forward['Z1'], cache_forward['A2'], cache_forward['A1']\n",
        "    SM = cache_forward['SM']\n",
        "    W2 = cache_parameters['W2']         #n_c X n_j\n",
        "    \n",
        "\n",
        "    delta1 = 1 / Y_actual.shape[0] * np.multiply((SM - Y_actual.T), sigmoid_prime(Z2))       # n_e X n_c\n",
        "#                                                   n_e X n_c           n_e X n_c \n",
        "                                                    #n_c X n_e          n_c X n_e\n",
        "    \n",
        "    dW2 = delta1 @ A1.T                                                  # n_c X n_j\n",
        "    #     n_c X n_e  n_e X n_j\n",
        "    \n",
        "    db2 = np.sum(delta1, axis = 1, keepdims = True)                     # n_c X 1\n",
        "    #             n_c X n_e\n",
        "    \n",
        "    delta2 = np.multiply(W2.T @ delta1, relu_prime(Z1))                    # n_e X n_j\n",
        "    #              n_e X n_c  n_c X n_j     n_e X n_j\n",
        "    #              n_j X n_c  n_c X n_e     n_j X n_e                   n_j X n_e\n",
        "     \n",
        "    dW1 = delta2 @ X.T                                                    # n_j X m\n",
        "    db1 = np.sum(delta2, axis = 1, keepdims = True)                      # n_j X 1\n",
        "    \n",
        "#     print(dW2)\n",
        "    \n",
        "    return {\n",
        "        'dW2': dW2,\n",
        "        'db2': db2,\n",
        "        'dW1': dW1,\n",
        "        'db1': db1\n",
        "    }"
      ],
      "execution_count": 0,
      "outputs": []
    },
    {
      "cell_type": "markdown",
      "metadata": {
        "colab_type": "text",
        "id": "QdEVy74LWuzZ"
      },
      "source": [
        "### (j) (10 points) Parameter Update\n",
        "\n",
        "With the backward propagation calculations in hand, the\n",
        "next step is to update the parameters in the neural network. The update\n",
        "step should be performed using **Batch Gradient Descent (BGD)**.\n",
        "\n",
        "- **Arguments:**\n",
        "    - `alpha` the learning rate parameter.\n",
        "    - `cache_parameters` a data dictionary containing parameters.\n",
        "<!--     - `cache_forward` a data dictionary containing forward propagation. -->\n",
        "    - `cache_grad` a data dictionary containing the gradients.\n",
        "- **Return:**\n",
        "    - `cache_parameters` an updated version of the dictionary data structure that contains:\n",
        "       - `W2`\n",
        "       - `b2`\n",
        "       - `W1`\n",
        "       - `b1`\n"
      ]
    },
    {
      "cell_type": "code",
      "metadata": {
        "colab_type": "code",
        "id": "T4xL4yL4ZTJh",
        "colab": {}
      },
      "source": [
        "# Code here\n",
        "\n",
        "def batch_GD(alpha, cache_parameters, cache_grad):\n",
        "    dW2, db2, dW1, db1 = cache_grad['dW2'], cache_grad['db2'], cache_grad['dW1'], cache_grad['db1']\n",
        "    W2, b2 = cache_parameters['W2'], cache_parameters['b2']\n",
        "    W1, b1 = cache_parameters['W1'], cache_parameters['b1']\n",
        "    \n",
        "    return {\n",
        "        'W2': W2 - alpha * dW2,\n",
        "        'b2': b2 - alpha * db2,\n",
        "        'W1': W1 - alpha * dW1,\n",
        "        'b1': b1 - alpha * db1\n",
        "    }"
      ],
      "execution_count": 0,
      "outputs": []
    },
    {
      "cell_type": "markdown",
      "metadata": {
        "colab_type": "text",
        "id": "fW1eYDOqZX7X"
      },
      "source": [
        "### (k) (10 points) Train the model\n",
        "\n",
        "Create a function that encases all of the prior functions. This function should\n",
        "perform the training and provide side-effects of the training process. \n",
        "\n",
        "- **Arguments:**\n",
        "    - `Y` a matrix of dimension `n_e X n_c`.\n",
        "    - `X` a matrix of dimension `m X n_e`.\n",
        "    - `n_h` number of neurons in the hidden layer.\n",
        "    - `alpha` the learning rate parameter. Default `1e-4`. (Check)\n",
        "    - `epochs` the total number of times to train. Default `100000`.\n",
        "- **Side-effect**\n",
        "    - Every 1000 iterations output the iteration number and the present cost.\n",
        "- **Return:**\n",
        "    - `cost_history` the cost values from each iteration of the training step.\n",
        "    - `cache_parameters` with a dictionary data structure that contains:\n",
        "       - `W2`\n",
        "       - `b2`\n",
        "       - `W1`\n",
        "       - `b1`"
      ]
    },
    {
      "cell_type": "markdown",
      "metadata": {
        "id": "VJGni2QtHLWq",
        "colab_type": "text"
      },
      "source": [
        "$$\n",
        "J\\left(\\boldsymbol{W}\\right) = -\\frac{1}{N} \\sum_{i=1}^{N} { \\sum_{c=1}^{C} { y_{ic} \\log\\left({ \\hat y_{ic} }\\right)  }}\n",
        "$$"
      ]
    },
    {
      "cell_type": "code",
      "metadata": {
        "id": "J_TiSbAdHLWq",
        "colab_type": "code",
        "colab": {}
      },
      "source": [
        "def cross_entropy_cost(y_hat, y_actual):\n",
        "    return -1/y_hat.shape[1] * np.sum(np.multiply(y_actual, np.log(y_hat)))"
      ],
      "execution_count": 0,
      "outputs": []
    },
    {
      "cell_type": "code",
      "metadata": {
        "colab_type": "code",
        "id": "5F27T8jPZYVT",
        "colab": {}
      },
      "source": [
        "# Code Here\n",
        "# Y. is actual values!!\n",
        "def train_NN(Y, X, n_h, alpha = 0.0001, epochs = 100):\n",
        "    m = X.shape[0]       # image size          m X n_e\n",
        "    N = X.shape[1]       # number of images\n",
        "    n_c = Y.shape[1]     # number of image categories\n",
        "    print(\"Image size: {}\\nNumber of images: {}\\nNumber of image categories: {}\\n\\n\".format(m,N,n_c))\n",
        "    \n",
        "    cost_history = []\n",
        "    # init weights & biases\n",
        "    cache_parameters = initialize_weights_biases(m = m, n_j = n_h, n_c = n_c)\n",
        "    \n",
        "    for epoch in range(epochs):\n",
        "        # forward prop\n",
        "        SM, cache_forward = forward_prop(X, cache_parameters)\n",
        "        # calculate loss\n",
        "        cost_history.append(cross_entropy_cost(y_hat = SM, y_actual = Y.T))\n",
        "        # back prop\n",
        "        cache_grad = backward_prop(Y, X, cache_parameters, cache_forward)\n",
        "        # update weights & biases\n",
        "        cache_parameters = batch_GD(alpha, cache_parameters, cache_grad)\n",
        "        \n",
        "        if epoch % 50 == 0:\n",
        "            print(\"Iteration: {}\\tCost: {}\".format(epoch, cost_history[epoch]))\n",
        "    \n",
        "    return cost_history, cache_parameters\n",
        "    "
      ],
      "execution_count": 0,
      "outputs": []
    },
    {
      "cell_type": "markdown",
      "metadata": {
        "colab_type": "text",
        "id": "ur07yy0ZvXKN"
      },
      "source": [
        "### (l) (5 points) Build the model and visualize it!\n",
        "\n",
        "In this exercise, perform the full network training on the MNIST Fashion data.\n",
        "Retrieve and visualize the cost function history across the number of epochs. \n"
      ]
    },
    {
      "cell_type": "code",
      "metadata": {
        "id": "GDs7iIrcHLWw",
        "colab_type": "code",
        "colab": {},
        "outputId": "8a15107f-9ed1-4260-d8ca-a05cdc1214b2"
      },
      "source": [
        "x_train.shape"
      ],
      "execution_count": 0,
      "outputs": [
        {
          "output_type": "execute_result",
          "data": {
            "text/plain": [
              "(784, 60000)"
            ]
          },
          "metadata": {
            "tags": []
          },
          "execution_count": 114
        }
      ]
    },
    {
      "cell_type": "code",
      "metadata": {
        "id": "VhohA9AuHLWy",
        "colab_type": "code",
        "colab": {},
        "outputId": "7874a692-3908-43f5-99b5-02057bbd53af"
      },
      "source": [
        "y_train.shape"
      ],
      "execution_count": 0,
      "outputs": [
        {
          "output_type": "execute_result",
          "data": {
            "text/plain": [
              "(60000, 10)"
            ]
          },
          "metadata": {
            "tags": []
          },
          "execution_count": 115
        }
      ]
    },
    {
      "cell_type": "code",
      "metadata": {
        "colab_type": "code",
        "id": "on-b7AATvYH2",
        "jupyter": {
          "outputs_hidden": true
        },
        "colab": {}
      },
      "source": [
        "# Code Here\n",
        "cost_history, trained_params = train_NN(Y = y_train, X = x_train, n_h = 32, alpha = 0.00001, epochs = 10000)\n"
      ],
      "execution_count": 0,
      "outputs": []
    },
    {
      "cell_type": "code",
      "metadata": {
        "colab_type": "code",
        "id": "PJxkbLXVv_Ou",
        "colab": {},
        "outputId": "5d602f99-a747-464d-b989-661d3a2c0680"
      },
      "source": [
        "# Visualization code\n",
        "\n",
        "# Must have variable named as `cost_history` with 1 dimension.\n",
        "plt.plot(cost_history)\n",
        "plt.ylabel('Cost Function')\n",
        "plt.xlabel('Number of Iterations')\n",
        "plt.title('Network Training Overview')\n",
        "plt.show()\n"
      ],
      "execution_count": 0,
      "outputs": [
        {
          "output_type": "display_data",
          "data": {
            "image/png": "[encoded data removed]",
            "text/plain": [
              "<Figure size 432x288 with 1 Axes>"
            ]
          },
          "metadata": {
            "tags": [],
            "needs_background": "light"
          }
        }
      ]
    },
    {
      "cell_type": "markdown",
      "metadata": {
        "colab_type": "text",
        "id": "tImazUr9YJ-T"
      },
      "source": [
        "### (m) (5 points) Predict!\n",
        "\n",
        "Use the model parameters obtained from training the network in **(i)** to make predictions on the data. Consider creating a prediction function to aide in this\n",
        "task.\n",
        "\n",
        "- **Arguments:**\n",
        "<!--     - `Y` a matrix of dimension `n_e X K`. -->\n",
        "    - `X` a matrix of dimension `m X n_e`.\n",
        "    - `cache_parameters` a dictionary data structure that contains estimated parameters.\n",
        "- **Return:**\n",
        "    - `prediction` predicted values\n",
        "\n",
        "_Hint:_ Logic for this was rewritten during the forward propagation step. \n"
      ]
    },
    {
      "cell_type": "code",
      "metadata": {
        "colab_type": "code",
        "id": "CP26WRk3a5mR",
        "colab": {}
      },
      "source": [
        "# Code Here\n",
        "def predict(X, trained_params):\n",
        "    \n",
        "    return forward_prop(X, trained_params)[0]"
      ],
      "execution_count": 0,
      "outputs": []
    },
    {
      "cell_type": "code",
      "metadata": {
        "id": "o-jnsLsLHLW-",
        "colab_type": "code",
        "colab": {}
      },
      "source": [
        "prediction = predict(x_test, trained_params)"
      ],
      "execution_count": 0,
      "outputs": []
    },
    {
      "cell_type": "markdown",
      "metadata": {
        "colab_type": "text",
        "id": "ZlJNt2w7a7GX"
      },
      "source": [
        "The following should be used to show the image alongside of its predicted\n",
        "class.\n",
        "\n",
        "Note: \n",
        "\n",
        "- [`np.argmax(data)`](https://docs.scipy.org/doc/numpy/reference/generated/numpy.argmax.html) returns the index of the highest value.\n",
        "- [`np.max(data)`](https://docs.scipy.org/doc/numpy/reference/generated/numpy.max.html) returns the highest value."
      ]
    },
    {
      "cell_type": "code",
      "metadata": {
        "colab_type": "code",
        "id": "l1mGiMjfYXfd",
        "colab": {},
        "outputId": "1c042444-f62a-467c-d7f8-9899d2f58462"
      },
      "source": [
        "# %tensorflow_version 2.x\n",
        "import tensorflow as tf\n",
        "import matplotlib.pyplot as plt\n",
        "\n",
        "fashion_mnist_viz = tf.keras.datasets.fashion_mnist\n",
        "\n",
        "# Load the MNIST data via a helper\n",
        "(x_train_viz, y_train_viz), (x_test_viz, y_test_viz) = fashion_mnist_viz.load_data()\n",
        "# Perform scaling\n",
        "x_train_viz, x_test_viz = x_train_viz / 255.0, x_test_viz / 255.0\n",
        "\n",
        "# Set seed for reproducibility\n",
        "################################################\n",
        "# Change to the last four digits of your UIN\n",
        "################################################\n",
        "np.random.seed(1234)\n",
        "\n",
        "# Obtain a set of indices to obtain predictions\n",
        "idx = list(np.random.randint(x_test_viz.shape[1], size = 10))\n",
        "\n",
        "plt.figure(figsize = (20,10))\n",
        "for i in range(10):\n",
        "    obs = idx[i]                      # Retrieve the index\n",
        "    plt.subplot(2, 5, i+1)            # Create a subplot\n",
        "    \n",
        "    img = x_test_viz[obs].reshape((28,28))\n",
        "    \n",
        "    pred = np.argmax(prediction[:,obs])\n",
        "\n",
        "    plt.imshow(img, cmap='gray')      # Plot gray scale\n",
        "    plt.title(f'Image ID: {obs} \\n Class: {y_test_viz[obs]}, Predicted: {pred} ')\n",
        "#     plt.tight_layout()"
      ],
      "execution_count": 0,
      "outputs": [
        {
          "output_type": "display_data",
          "data": {
            "image/png": "[encoded data removed]",
            "text/plain": [
              "<Figure size 1440x720 with 10 Axes>"
            ]
          },
          "metadata": {
            "tags": [],
            "needs_background": "light"
          }
        }
      ]
    },
    {
      "cell_type": "code",
      "metadata": {
        "id": "BbTuqzWYHLXD",
        "colab_type": "code",
        "colab": {},
        "outputId": "0b34cb0a-2609-4cd7-80b7-f140cd668b0e"
      },
      "source": [
        "# get the accuracy of the neural net on the test data set\n",
        "pred = np.argmax(prediction, axis = 0)\n",
        "y_true = y_test_viz\n",
        "\n",
        "from sklearn.metrics import accuracy_score\n",
        "\n",
        "accuracy_score(pred, y_true)"
      ],
      "execution_count": 0,
      "outputs": [
        {
          "output_type": "execute_result",
          "data": {
            "text/plain": [
              "0.1376"
            ]
          },
          "metadata": {
            "tags": []
          },
          "execution_count": 140
        }
      ]
    },
    {
      "cell_type": "markdown",
      "metadata": {
        "colab_type": "text",
        "id": "-bxhSMXWfD5O"
      },
      "source": [
        "## [20 points] Exercise 2 - Cruisin' Keras!\n",
        "\n",
        "In this exercise block, we'll implement the same neural network from **Exercise 1** but using Keras. \n"
      ]
    },
    {
      "cell_type": "markdown",
      "metadata": {
        "colab_type": "text",
        "id": "llUnqwrSfLyA"
      },
      "source": [
        "### (a) (10 points) Structuring a model in keras\n",
        "\n",
        "Structure a two-layer sequential model in Keras that mirrors the guidelines in **Exercise 1**. Show the model layer information."
      ]
    },
    {
      "cell_type": "code",
      "metadata": {
        "colab_type": "code",
        "id": "xrGut3Q8gsrA",
        "colab": {}
      },
      "source": [
        "# %tensorflow_version 2.x\n",
        "import tensorflow as tf\n",
        "from tensorflow import keras\n",
        "from tensorflow.keras import models\n",
        "from tensorflow.keras import layers\n",
        "\n",
        "# Code Here\n",
        "model = models.Sequential()\n",
        "model.add(\n",
        "    layers.Dense(32, activation='relu', input_shape = (784,))\n",
        ")\n",
        "model.add(\n",
        "    layers.Dense(10, activation='sigmoid')\n",
        ")\n",
        "model.add(\n",
        "    layers.Activation('softmax')\n",
        ")"
      ],
      "execution_count": 0,
      "outputs": []
    },
    {
      "cell_type": "code",
      "metadata": {
        "id": "yqXvC5IgHLXJ",
        "colab_type": "code",
        "colab": {
          "base_uri": "https://localhost:8080/",
          "height": 369
        },
        "outputId": "6d3de916-a6f3-47de-a075-e73c928b3536"
      },
      "source": [
        "from tensorflow.keras import utils\n",
        "utils.plot_model(model)"
      ],
      "execution_count": 61,
      "outputs": [
        {
          "output_type": "execute_result",
          "data": {
            "image/png": "[encoded data removed]",
            "text/plain": [
              "<IPython.core.display.Image object>"
            ]
          },
          "metadata": {
            "tags": []
          },
          "execution_count": 61
        }
      ]
    },
    {
      "cell_type": "code",
      "metadata": {
        "id": "cqMOGT6CHLXM",
        "colab_type": "code",
        "colab": {
          "base_uri": "https://localhost:8080/",
          "height": 255
        },
        "outputId": "97760339-67d4-4ae7-822f-970f28580f84"
      },
      "source": [
        "model.summary()"
      ],
      "execution_count": 62,
      "outputs": [
        {
          "output_type": "stream",
          "text": [
            "Model: \"sequential_1\"\n",
            "_________________________________________________________________\n",
            "Layer (type)                 Output Shape              Param #   \n",
            "=================================================================\n",
            "dense_2 (Dense)              (None, 32)                25120     \n",
            "_________________________________________________________________\n",
            "dense_3 (Dense)              (None, 10)                330       \n",
            "_________________________________________________________________\n",
            "activation_1 (Activation)    (None, 10)                0         \n",
            "=================================================================\n",
            "Total params: 25,450\n",
            "Trainable params: 25,450\n",
            "Non-trainable params: 0\n",
            "_________________________________________________________________\n"
          ],
          "name": "stdout"
        }
      ]
    },
    {
      "cell_type": "markdown",
      "metadata": {
        "colab_type": "text",
        "id": "XdgvsQGpfdZn"
      },
      "source": [
        "### (b) (10 points) Model Training\n",
        "\n",
        "Train the neural network within Keras. Training should be done in a similar \n",
        "manner to **Exercise 1 (j) and (k)**. Unlike before, please construct a graph that shows training and test behavior. This information is available on\n",
        "the `model.fit` call."
      ]
    },
    {
      "cell_type": "code",
      "metadata": {
        "id": "uzxr44kyHLXO",
        "colab_type": "code",
        "colab": {}
      },
      "source": [
        "from tensorflow.keras import optimizers\n",
        "model.compile(\n",
        "    optimizer = optimizers.RMSprop(learning_rate=1e-4),\n",
        "    loss = 'categorical_crossentropy',\n",
        "    metrics = ['accuracy']\n",
        ")"
      ],
      "execution_count": 0,
      "outputs": []
    },
    {
      "cell_type": "code",
      "metadata": {
        "colab_type": "code",
        "id": "mgc-msBhgtRQ",
        "colab": {}
      },
      "source": [
        "# Code Here\n",
        "model_fit = model.fit(x_train.T, y_train, epochs = 50, batch_size = 2000, validation_split=0.2)"
      ],
      "execution_count": 0,
      "outputs": []
    },
    {
      "cell_type": "code",
      "metadata": {
        "collapsed": true,
        "jupyter": {
          "outputs_hidden": true
        },
        "id": "KeKT4BUIHLXR",
        "colab_type": "code",
        "colab": {
          "base_uri": "https://localhost:8080/",
          "height": 34
        },
        "outputId": "bc732930-1913-4036-e24d-29314324b1a5"
      },
      "source": [
        "test_cost, test_acc = model.evaluate(x_test.T, y_test) "
      ],
      "execution_count": 65,
      "outputs": [
        {
          "output_type": "stream",
          "text": [
            "313/313 [==============================] - 1s 2ms/step - loss: 1.6467 - accuracy: 0.7514\n"
          ],
          "name": "stdout"
        }
      ]
    },
    {
      "cell_type": "code",
      "metadata": {
        "id": "GgHOUVGPHLXT",
        "colab_type": "code",
        "colab": {
          "base_uri": "https://localhost:8080/",
          "height": 34
        },
        "outputId": "4600d44c-6742-4f25-dbd8-dda04b26a369"
      },
      "source": [
        "test_cost, test_acc"
      ],
      "execution_count": 66,
      "outputs": [
        {
          "output_type": "execute_result",
          "data": {
            "text/plain": [
              "(1.6467076539993286, 0.7513999938964844)"
            ]
          },
          "metadata": {
            "tags": []
          },
          "execution_count": 66
        }
      ]
    },
    {
      "cell_type": "code",
      "metadata": {
        "colab_type": "code",
        "id": "GiWLPdwhwQHR",
        "colab": {
          "base_uri": "https://localhost:8080/",
          "height": 295
        },
        "outputId": "159b2b02-0e1a-45c8-ee59-ae7382c579e6"
      },
      "source": [
        "# Visualization code here... \n",
        "\n",
        "import matplotlib.pyplot as plt\n",
        "\n",
        "plt.plot(model_fit.history['loss'])\n",
        "plt.plot(model_fit.history['val_loss'])\n",
        "plt.title('Network Training')\n",
        "plt.ylabel('Cost Function')\n",
        "plt.xlabel('Number of Iterations')\n",
        "plt.legend(['Train', 'Test'], loc='upper left')\n",
        "plt.show()\n"
      ],
      "execution_count": 67,
      "outputs": [
        {
          "output_type": "display_data",
          "data": {
            "image/png": "[encoded data removed]",
            "text/plain": [
              "<Figure size 432x288 with 1 Axes>"
            ]
          },
          "metadata": {
            "tags": [],
            "needs_background": "light"
          }
        }
      ]
    },
    {
      "cell_type": "markdown",
      "metadata": {
        "colab_type": "text",
        "id": "CGO1fzoRf6yw"
      },
      "source": [
        "## [30 points] Exercise 3 - PyTorch et al are friends not food!\n",
        "\n",
        "This exercises mirrors the prior approaches taken in **Exercise 1** and **Exercise 2** except written with PyTorch.\n"
      ]
    },
    {
      "cell_type": "code",
      "metadata": {
        "colab_type": "code",
        "id": "5dzZJRA5gL15",
        "colab": {
          "base_uri": "https://localhost:8080/",
          "height": 34
        },
        "outputId": "b86d8eec-ec2a-48ca-c226-6ef28247d771"
      },
      "source": [
        "import torch\n",
        "import torch.nn as nn\n",
        "import torch.nn.functional as F\n",
        "import torch.optim as optim\n",
        "from torchvision import datasets, transforms\n",
        "from torch.optim.lr_scheduler import StepLR\n",
        "# Detect if a GPU is present with CUDA support\n",
        "use_cuda = torch.cuda.is_available()\n",
        "print(f'GPU enabled: {use_cuda}')\n",
        "# Code Here\n"
      ],
      "execution_count": 68,
      "outputs": [
        {
          "output_type": "stream",
          "text": [
            "GPU enabled: True\n"
          ],
          "name": "stdout"
        }
      ]
    },
    {
      "cell_type": "code",
      "metadata": {
        "id": "NcDTTw7WJlhY",
        "colab_type": "code",
        "colab": {
          "base_uri": "https://localhost:8080/",
          "height": 289
        },
        "outputId": "a5eb1b51-8d2c-469b-bc27-c6a98f27d4c4"
      },
      "source": [
        "x_trainT, y_trainT, x_testT, y_testT = map(\n",
        "    torch.tensor, (x_train, y_train, x_test, y_test)\n",
        ")\n",
        "n, c = x_trainT.shape\n",
        "print(x_trainT)\n",
        "print(y_trainT)\n",
        "print(x_trainT.shape)\n",
        "print(y_trainT.shape)"
      ],
      "execution_count": 69,
      "outputs": [
        {
          "output_type": "stream",
          "text": [
            "tensor([[0., 0., 0.,  ..., 0., 0., 0.],\n",
            "        [0., 0., 0.,  ..., 0., 0., 0.],\n",
            "        [0., 0., 0.,  ..., 0., 0., 0.],\n",
            "        ...,\n",
            "        [0., 0., 0.,  ..., 0., 0., 0.],\n",
            "        [0., 0., 0.,  ..., 0., 0., 0.],\n",
            "        [0., 0., 0.,  ..., 0., 0., 0.]], dtype=torch.float64)\n",
            "tensor([[0, 0, 0,  ..., 0, 0, 1],\n",
            "        [1, 0, 0,  ..., 0, 0, 0],\n",
            "        [1, 0, 0,  ..., 0, 0, 0],\n",
            "        ...,\n",
            "        [0, 0, 0,  ..., 0, 0, 0],\n",
            "        [1, 0, 0,  ..., 0, 0, 0],\n",
            "        [0, 0, 0,  ..., 0, 0, 0]], dtype=torch.uint8)\n",
            "torch.Size([784, 60000])\n",
            "torch.Size([60000, 10])\n"
          ],
          "name": "stdout"
        }
      ]
    },
    {
      "cell_type": "markdown",
      "metadata": {
        "colab_type": "text",
        "id": "mpJxX0fsgM_8"
      },
      "source": [
        "### (a) (10 points) Design the nn module\n",
        "\n",
        "Re-create the neural network structure within _PyTorch_'s `nn` module.\n"
      ]
    },
    {
      "cell_type": "code",
      "metadata": {
        "id": "Kwod2xw6N-WD",
        "colab_type": "code",
        "colab": {
          "base_uri": "https://localhost:8080/",
          "height": 34
        },
        "outputId": "e8e17f1f-57fc-4320-b81e-a1936fe7663f"
      },
      "source": [
        "samples = x_trainT.shape[1]\n",
        "input_dim = x_trainT.shape[0]\n",
        "\n",
        "hidden_dim = 32\n",
        "output_dim = 10"
      ],
      "execution_count": 70,
      "outputs": [
        {
          "output_type": "execute_result",
          "data": {
            "text/plain": [
              "784"
            ]
          },
          "metadata": {
            "tags": []
          },
          "execution_count": 70
        }
      ]
    },
    {
      "cell_type": "code",
      "metadata": {
        "id": "a2itwpTYKoj_",
        "colab_type": "code",
        "colab": {}
      },
      "source": [
        "loss_func = F.cross_entropy\n",
        "\n",
        "model = nn.Sequential(\n",
        "    nn.Linear(input_dim, hidden_dim),\n",
        "    nn.ReLU(),\n",
        "    nn.Linear(hidden_dim, output_dim),\n",
        "    nn.Sigmoid(),\n",
        "    nn.Softmax()\n",
        ")"
      ],
      "execution_count": 0,
      "outputs": []
    },
    {
      "cell_type": "markdown",
      "metadata": {
        "colab_type": "text",
        "id": "2UkjcSS1gVu2"
      },
      "source": [
        "### (b) (10 points) Training and Test functions\n",
        "\n",
        "Wrap the `nn` module work into two functions that cover the training period and the testing behavior."
      ]
    },
    {
      "cell_type": "code",
      "metadata": {
        "colab_type": "code",
        "id": "KVyFUqzcglIU",
        "colab": {}
      },
      "source": [
        "# Code Here\n"
      ],
      "execution_count": 0,
      "outputs": []
    },
    {
      "cell_type": "markdown",
      "metadata": {
        "colab_type": "text",
        "id": "Xuts3jeagayi"
      },
      "source": [
        "### (b) (10 points) Model fit and visualization\n",
        "\n",
        "Fit the model and show the visualization results. \n",
        "\n",
        "Please construct a visual graph yourself for this exercise. \n",
        "\n"
      ]
    },
    {
      "cell_type": "code",
      "metadata": {
        "colab_type": "code",
        "id": "7RP0dCqogqzU",
        "colab": {}
      },
      "source": [
        "# Code Here\n"
      ],
      "execution_count": 0,
      "outputs": []
    }
  ]
}