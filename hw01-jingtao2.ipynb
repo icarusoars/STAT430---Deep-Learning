{
  "nbformat": 4,
  "nbformat_minor": 0,
  "metadata": {
    "colab": {
      "name": "hw01-netid.ipynb",
      "provenance": [],
      "collapsed_sections": [],
      "toc_visible": true,
      "include_colab_link": true
    },
    "kernelspec": {
      "display_name": "Python 3",
      "language": "python",
      "name": "python3"
    },
    "language_info": {
      "codemirror_mode": {
        "name": "ipython",
        "version": 3
      },
      "file_extension": ".py",
      "mimetype": "text/x-python",
      "name": "python",
      "nbconvert_exporter": "python",
      "pygments_lexer": "ipython3",
      "version": "3.7.3"
    }
  },
  "cells": [
    {
      "cell_type": "markdown",
      "metadata": {
        "id": "view-in-github",
        "colab_type": "text"
      },
      "source": [
        "<a href=\"https://colab.research.google.com/github/icarusoars/stat430/blob/master/HW/hw01-jingtao2.ipynb\" target=\"_parent\"><img src=\"https://colab.research.google.com/assets/colab-badge.svg\" alt=\"Open In Colab\"/></a>"
      ]
    },
    {
      "cell_type": "markdown",
      "metadata": {
        "colab_type": "text",
        "id": "pQV4FWMwCLvx"
      },
      "source": [
        "# Overview \n",
        "\n",
        "Please see the [homework policy](https://fdl.thecoatlessprofessor.com/syllabus/#homework)\n",
        "for detailed instructions and some grading notes. Failure to follow instructions\n",
        "will result in point reductions. In particular, make sure to commit each \n",
        "exercise as you complete them. \n",
        "\n",
        "> \"The future depends on some graduate student who is deeply suspicious of everything I have said.\"\n",
        "> \n",
        "> -- Geoffrey Hinton (One of Deep Learning's Godfathers)\n",
        "\n",
        "## Grading\n",
        "\n",
        "The rubric CAs will use to grade this assignment is:\n",
        "\n",
        "| Task                                                   | Pts |\n",
        "|:-------------------------------------------------------|----:|\n",
        "| Homework Policy                                        | 2   |\n",
        "| Splitting the Bill                                     | 10  |\n",
        "| I _vant_ to _manually_ read your data                  | 5   |\n",
        "| Excellency at UIUC                                     | 20  |\n",
        "| Total                                                  | 37  |\n",
        "\n",
        "\n",
        "## Objectives \n",
        "\n",
        "The objectives behind this homework assignment are as follows:\n",
        "\n",
        "- Implement functions in Python;\n",
        "- Loading CSV data;\n",
        "- Manipulating data; and,\n",
        "- Visualizing Data.\n",
        "\n",
        "# Assignment - Homework 1\n",
        "STAT 430 - FDL, Spring 2020\n",
        "\n",
        "Due: **Friday, February 7th, 2020 at 6:00 PM**\n",
        "\n",
        "- **Author: Skyler Shi**\n",
        "- **NetID: jingtao2**"
      ]
    },
    {
      "cell_type": "markdown",
      "metadata": {
        "colab_type": "text",
        "id": "Ppd8jjCSDU_4"
      },
      "source": [
        "### Collaborators\n",
        "\n",
        "If you worked with any other student in preparing these answers, please\n",
        "make sure to list their full names and NetIDs (e.g. `FirstName LastName (NetID)` ).\n"
      ]
    },
    {
      "cell_type": "code",
      "metadata": {
        "colab_type": "code",
        "id": "9x_WVlS5m2Ue",
        "colab": {},
        "outputId": "40839d96-2ab0-4a67-ac49-2969e2b0fa6d"
      },
      "source": [
        "print(\"Diagnostics: \")\n",
        "\n",
        "try:\n",
        "  from google.colab import drive\n",
        "  is_google_colab = True\n",
        "  import sys\n",
        "  import pandas as pd\n",
        "  import numpy as np\n",
        "\n",
        "  print(f\"python: {sys.version}\")\n",
        "  print(f\"pandas: {np.__version__}\")\n",
        "  print(\"Notebook is on Google CoLab\")\n",
        "except:\n",
        "  is_google_colab = False\n",
        "  print(\"Notebook is begin run locally or through another source.\")\n",
        "\n",
        "\n"
      ],
      "execution_count": 0,
      "outputs": [
        {
          "output_type": "stream",
          "text": [
            "Diagnostics: \n",
            "Notebook is begin run locally or through another source.\n"
          ],
          "name": "stdout"
        }
      ]
    },
    {
      "cell_type": "markdown",
      "metadata": {
        "colab_type": "text",
        "id": "gmNZXZx-DZnJ"
      },
      "source": [
        "## [2 points] Exercise 1: Homework Policy\n",
        "\n",
        "Please uncomment the following statement when you have read and agreed\n",
        "to the [homework policy](https://fdl.thecoatlessprofessor.com/syllabus/#homework/).\n",
        "To _uncomment_ a statement in _text cell_, double click the _text cell_ and remove the `<!-- -->` surrounding the content.\n",
        "\n",
        "\n",
        "I have read and agree to abide by the policies and procedures laid \n",
        "out by the [homework policy](https://fdl.thecoatlessprofessor.com/syllabus/#homework/).\n",
        "                               \n",
        "I understand that:\n",
        "\n",
        "- I must independently write up solutions to homework problems.\n",
        "    - Failure to do so will result in an academic integrity violation due to plagarism and more severe penalties.\n",
        "- I must list the names of all collaborators that I work with at the top of my homework assignment.\n",
        "- I understand that I can work with **at most** four other students in class. \n",
        "- I must supply my full name and netid at the top of the homework assignments.\n",
        "- I will change the name of the Jupyter Notebook from `hwXX-assign.ipynb` to `hwXX-NetId.ipynb`.\n",
        "- All code cells must be evaluated. \n",
        "- I will turn in my homework by uploading to Canvas.\n",
        "    - There is no paper or e-mail turn-in available. \n",
        "- I understand that at 6:00 PM central time on the day the homework is due my ability to upload the assignment will be disabled\n",
        "    - Any work not in the upload will _not_ be graded.\n",
        "    - Any code cell not run, will not be graded.\n",
        "- I will be able to drop **one** homework assignment over the course of the \n",
        "  semester. \n",
        "- I understand that any academic integrity violations (cheating or assisting others)\n",
        "  will be punished to ensure a fair academic environment for all.\n"
      ]
    },
    {
      "cell_type": "markdown",
      "metadata": {
        "colab_type": "text",
        "id": "NuBbeunWXeLc"
      },
      "source": [
        "\n",
        "## [10 points] Exercise 2: Splitting the Bill\n",
        "\n",
        "Develop a function that displays an itemized bill and provides the total a given person must pay.\n",
        "\n",
        "Consider the following bill:\n",
        "\n",
        "- James\n",
        "  - Cold Brew: \\$4.63\n",
        "  - [Beef Bulgogi](https://en.wikipedia.org/wiki/Bulgogi): \\$12.32\n",
        "- Brianna\n",
        "  - Tea: \\$2.55\n",
        "  - Muffin: \\$1.88\n",
        "  - [Poke bowl](https://en.wikipedia.org/wiki/Poke_(Hawaiian_dish)): \\$10.69\n",
        "- Cathy\n",
        "  - [Margarita](https://en.wikipedia.org/wiki/Margarita): \\$8.50\n",
        "\n",
        "Implementation Guidelines:\n",
        "\n",
        "- **Arguments:**\n",
        "    - `x`: data structure holding the above example.\n",
        "    - `first_name`: Obtain the total a given person owes.\n",
        "- **Side-effect:**\n",
        "    - Print an itemized version of the bill by person.\n",
        "- **Return:**\n",
        "    - The total value of all items ordered by requested person.\n",
        "\n",
        "Example of output:\n",
        "\n",
        "```python\n",
        "bill_split(x, \"James\")\n",
        "# Itemized Bill ----\n",
        "# James pays $16.95\n",
        "# * 4.63 for Cold Brew\n",
        "# * 12.32 for Beef Bulgogi\n",
        "# Brianna pays $15.12\n",
        "# * 2.55 for Tea\n",
        "# * 1.88 for Muffin\n",
        "# * 10.69 for Poke Bowl\n",
        "# Cathy pays $8.50\n",
        "# * 8.50 for Margarita\n",
        "# 16.95\n",
        "```\n"
      ]
    },
    {
      "cell_type": "code",
      "metadata": {
        "id": "6V3qs26INiPc",
        "colab_type": "code",
        "colab": {}
      },
      "source": [
        "import pandas as pd\n",
        "import numpy as np"
      ],
      "execution_count": 0,
      "outputs": []
    },
    {
      "cell_type": "code",
      "metadata": {
        "id": "phNSIPlANiPf",
        "colab_type": "code",
        "colab": {}
      },
      "source": [
        "x = pd.DataFrame({\n",
        "    'Name': ['James', 'James', 'Brianna', 'Brianna', 'Brianna', 'Cathy'],\n",
        "    'Item': ['Cold Brew', 'Beef Bulgogi', 'Tea', 'Muffin', 'Poke Bowl', 'Magarita'],\n",
        "    'Cost': [4.63, 12.32, 2.55, 1.88, 10.69, 8.50]\n",
        "})"
      ],
      "execution_count": 0,
      "outputs": []
    },
    {
      "cell_type": "code",
      "metadata": {
        "colab_type": "code",
        "id": "hVS-ZvlKXdKo",
        "colab": {}
      },
      "source": [
        "# Code\n",
        "def bill_split(x, name):\n",
        "    person_total = 0\n",
        "    person_total = x[x.Name == name]['Cost'].sum()\n",
        "    \n",
        "    print(\"Itemized Bill ---\")\n",
        "    for name, group in x.groupby('Name'):\n",
        "        print('{} pays {}'.format(name, group['Cost'].sum()))\n",
        "        for idx, row in group.iterrows():\n",
        "            print(\"   {} for {}\".format(row['Cost'], row['Item']))\n",
        "    \n",
        "    return person_total"
      ],
      "execution_count": 0,
      "outputs": []
    },
    {
      "cell_type": "code",
      "metadata": {
        "id": "f8m6GgFANiPk",
        "colab_type": "code",
        "colab": {},
        "outputId": "978c5a74-1d5b-49f1-9e81-7f364a1dd47f"
      },
      "source": [
        "bill_split(x, \"James\")"
      ],
      "execution_count": 0,
      "outputs": [
        {
          "output_type": "stream",
          "text": [
            "Itemized Bill ---\n",
            "Brianna pays 15.12\n",
            "   2.55 for Tea\n",
            "   1.88 for Muffin\n",
            "   10.69 for Poke Bowl\n",
            "Cathy pays 8.5\n",
            "   8.5 for Magarita\n",
            "James pays 16.95\n",
            "   4.63 for Cold Brew\n",
            "   12.32 for Beef Bulgogi\n"
          ],
          "name": "stdout"
        },
        {
          "output_type": "execute_result",
          "data": {
            "text/plain": [
              "16.95"
            ]
          },
          "metadata": {
            "tags": []
          },
          "execution_count": 42
        }
      ]
    },
    {
      "cell_type": "markdown",
      "metadata": {
        "colab_type": "text",
        "id": "bUdebDeNXQe6"
      },
      "source": [
        "\n",
        "## [5 points] Exercise 3: I _vant_ to manually read your data\n",
        "\n",
        "Consider the following [Fall 2019 Freshman profile](http://dmi.illinois.edu/stuenr/abstracts/FA19freshman_ten.htm) made available by the [Division of Management Information (DMI)](http://dmi.illinois.edu).\n",
        "\n",
        "- **(3 Points)** Translate the table from `markdown` to a pandas `DataFrame`\n",
        "\n",
        "|College               | Number| Percent|\n",
        "|:---------------------|------:|-------:|\n",
        "|Agr, Cons, Env Sci    |    538|   0.070|\n",
        "|Applied Health Sci    |    287|   0.037|\n",
        "|Business              |    591|   0.077|\n",
        "|Education             |    138|   0.018|\n",
        "|Fine & Applied Arts   |    381|   0.050|\n",
        "|General Studies       |   1498|   0.195|\n",
        "|Grainger Engineering  |   1628|   0.212|\n",
        "|Liberal Arts & Sci    |   2411|   0.315|\n",
        "|Media                 |    142|   0.019|\n",
        "|School of Social Work |     51|   0.007|\n",
        "\n",
        "- **(2 Points)** Progmatically, find the maximum number of students"
      ]
    },
    {
      "cell_type": "code",
      "metadata": {
        "id": "uFqVlagnNiPo",
        "colab_type": "code",
        "colab": {}
      },
      "source": [
        "students = pd.DataFrame(\n",
        "    columns = ['College', 'Number', 'Percent'],\n",
        "    data = [\n",
        "        ['Agr, Cons, Env Sci', 538, 0.070],\n",
        "        ['Applied Health Sci', 287, 0.037],\n",
        "        ['Business', 591, 0.077],\n",
        "        ['Education', 138, 0.018],\n",
        "        ['Fine & Applied Arts', 381,0.050],\n",
        "        ['General Studies', 1498,  0.195],\n",
        "        ['Grainger Engineering' ,1628,0.212],\n",
        "        ['Liberal Arts & Sci'  ,2411,0.315],\n",
        "        ['Media'   ,142, 0.019],\n",
        "        ['School of Social Work',51, 0.007]\n",
        "    ]\n",
        ")"
      ],
      "execution_count": 0,
      "outputs": []
    },
    {
      "cell_type": "code",
      "metadata": {
        "id": "qzhb36zTNiPr",
        "colab_type": "code",
        "colab": {},
        "outputId": "f198c879-2298-45e1-fdbb-7c4ada155bc3"
      },
      "source": [
        "students[students.Number == students.Number.max()]"
      ],
      "execution_count": 0,
      "outputs": [
        {
          "output_type": "execute_result",
          "data": {
            "text/html": [
              "<div>\n",
              "<style scoped>\n",
              "    .dataframe tbody tr th:only-of-type {\n",
              "        vertical-align: middle;\n",
              "    }\n",
              "\n",
              "    .dataframe tbody tr th {\n",
              "        vertical-align: top;\n",
              "    }\n",
              "\n",
              "    .dataframe thead th {\n",
              "        text-align: right;\n",
              "    }\n",
              "</style>\n",
              "<table border=\"1\" class=\"dataframe\">\n",
              "  <thead>\n",
              "    <tr style=\"text-align: right;\">\n",
              "      <th></th>\n",
              "      <th>College</th>\n",
              "      <th>Number</th>\n",
              "      <th>Percent</th>\n",
              "    </tr>\n",
              "  </thead>\n",
              "  <tbody>\n",
              "    <tr>\n",
              "      <th>7</th>\n",
              "      <td>Liberal Arts &amp; Sci</td>\n",
              "      <td>2411</td>\n",
              "      <td>0.315</td>\n",
              "    </tr>\n",
              "  </tbody>\n",
              "</table>\n",
              "</div>"
            ],
            "text/plain": [
              "              College  Number  Percent\n",
              "7  Liberal Arts & Sci    2411    0.315"
            ]
          },
          "metadata": {
            "tags": []
          },
          "execution_count": 53
        }
      ]
    },
    {
      "cell_type": "markdown",
      "metadata": {
        "id": "p_MEUnUZNiPu",
        "colab_type": "text"
      },
      "source": [
        "Liberal Arts college has the most number of students with 2411."
      ]
    },
    {
      "cell_type": "markdown",
      "metadata": {
        "colab_type": "text",
        "id": "2XxvUNq9XVuv"
      },
      "source": [
        "\n",
        "\n",
        "\n",
        "## [20 points] Exercise 4: Excellency at UIUC\n",
        "\n",
        "Under this exercise, we will explore the \"Teachers Ranked As Excellent\" data\n",
        "at UIUC from Fall 1993 to Summer 2019 as compiled by \n",
        "[Wade Fagen-Ulmschneider](http://waf.cs.illinois.edu/).\n",
        "The data is available from:\n",
        "\n",
        "<https://raw.githubusercontent.com/wadefagen/datasets/master/teachers-ranked-as-excellent/uiuc-tre-dataset.csv> \n",
        "\n",
        "This data has a file extension of **CSV** form. Contained in the data are the following variables:\n",
        "\n",
        "- `term`: Two letter semester code (`sp`, `su`, `fa`, or `wi`) followed by a four digit year.\n",
        "    - Examples: `sp2017`, `fa2013`, `su2012`.\n",
        "- `unit`: The CITL-supplied headers for the unit teaching the course.\n",
        "    - Examples: `ACCOUNTANCY`, `SOCIAL WORK`, `LINGUISTICS`, `NUCLEAR, PLASMA & RAD. ENGR.`\n",
        "- `lname`: The last name of the teacher.\n",
        "    - Examples: `FAGEN-ULMSCHNEIDER`, `FLANAGAN`, `FLECK`\n",
        "- `fname`: The first letter of the first name of the teacher.\n",
        "    - Examples: `W`, `K`, `M`\n",
        "- `role`: `Instructor` or `TA`\n",
        "- `ranking`: `Excellent` or `Outstanding`\n",
        "- `course`: The course the teacher was ranked as excellent.  If no course is given, the `course` field is set to `?` (this includes cases when the raw data lists the course as `0`, `000`, or `999`).\n",
        "    - Examples: `199`, `225`, `560`, `?`\n",
        "\n",
        "**[2 points] (a)** Import into _Python_ the data in `uiuc-tre-dataset.csv`. As `course` denotes a value that is\n",
        "_not_ `NaN`, which is how _Python_ represents missing values, you must use the parameter \n",
        "`na_values = ['NA','?'] ` during the import with pandas.\n",
        "\n",
        "\n"
      ]
    },
    {
      "cell_type": "code",
      "metadata": {
        "colab_type": "code",
        "id": "JkH5KWBiLtfT",
        "colab": {}
      },
      "source": [
        "# Code\n",
        "file_path = 'https://raw.githubusercontent.com/wadefagen/datasets/master/teachers-ranked-as-excellent/uiuc-tre-dataset.csv'\n",
        "excel_teach = pd.read_csv(file_path, na_values = ['NA', '?'])"
      ],
      "execution_count": 0,
      "outputs": []
    },
    {
      "cell_type": "code",
      "metadata": {
        "id": "K0_ZiiAJNiPz",
        "colab_type": "code",
        "colab": {},
        "outputId": "caafbd54-a441-4a6e-f35c-5f5fd161aaa7"
      },
      "source": [
        "excel_teach.head()"
      ],
      "execution_count": 0,
      "outputs": [
        {
          "output_type": "execute_result",
          "data": {
            "text/html": [
              "<div>\n",
              "<style scoped>\n",
              "    .dataframe tbody tr th:only-of-type {\n",
              "        vertical-align: middle;\n",
              "    }\n",
              "\n",
              "    .dataframe tbody tr th {\n",
              "        vertical-align: top;\n",
              "    }\n",
              "\n",
              "    .dataframe thead th {\n",
              "        text-align: right;\n",
              "    }\n",
              "</style>\n",
              "<table border=\"1\" class=\"dataframe\">\n",
              "  <thead>\n",
              "    <tr style=\"text-align: right;\">\n",
              "      <th></th>\n",
              "      <th>term</th>\n",
              "      <th>unit</th>\n",
              "      <th>lname</th>\n",
              "      <th>fname</th>\n",
              "      <th>role</th>\n",
              "      <th>ranking</th>\n",
              "      <th>course</th>\n",
              "    </tr>\n",
              "  </thead>\n",
              "  <tbody>\n",
              "    <tr>\n",
              "      <th>0</th>\n",
              "      <td>fa2003</td>\n",
              "      <td>ACCOUNTANCY</td>\n",
              "      <td>BALLOU</td>\n",
              "      <td>B</td>\n",
              "      <td>Instructor</td>\n",
              "      <td>Excellent</td>\n",
              "      <td>304.0</td>\n",
              "    </tr>\n",
              "    <tr>\n",
              "      <th>1</th>\n",
              "      <td>fa2003</td>\n",
              "      <td>ACCOUNTANCY</td>\n",
              "      <td>CHANDLER</td>\n",
              "      <td>J</td>\n",
              "      <td>Instructor</td>\n",
              "      <td>Excellent</td>\n",
              "      <td>304.0</td>\n",
              "    </tr>\n",
              "    <tr>\n",
              "      <th>2</th>\n",
              "      <td>fa2003</td>\n",
              "      <td>ACCOUNTANCY</td>\n",
              "      <td>DEREUS</td>\n",
              "      <td>M</td>\n",
              "      <td>TA</td>\n",
              "      <td>Excellent</td>\n",
              "      <td>201.0</td>\n",
              "    </tr>\n",
              "    <tr>\n",
              "      <th>3</th>\n",
              "      <td>fa2003</td>\n",
              "      <td>ACCOUNTANCY</td>\n",
              "      <td>FARRELL</td>\n",
              "      <td>A</td>\n",
              "      <td>Instructor</td>\n",
              "      <td>Excellent</td>\n",
              "      <td>302.0</td>\n",
              "    </tr>\n",
              "    <tr>\n",
              "      <th>4</th>\n",
              "      <td>fa2003</td>\n",
              "      <td>ACCOUNTANCY</td>\n",
              "      <td>FELLER</td>\n",
              "      <td>A</td>\n",
              "      <td>Instructor</td>\n",
              "      <td>Excellent</td>\n",
              "      <td>310.0</td>\n",
              "    </tr>\n",
              "  </tbody>\n",
              "</table>\n",
              "</div>"
            ],
            "text/plain": [
              "     term         unit     lname fname        role    ranking  course\n",
              "0  fa2003  ACCOUNTANCY    BALLOU     B  Instructor  Excellent   304.0\n",
              "1  fa2003  ACCOUNTANCY  CHANDLER     J  Instructor  Excellent   304.0\n",
              "2  fa2003  ACCOUNTANCY    DEREUS     M          TA  Excellent   201.0\n",
              "3  fa2003  ACCOUNTANCY   FARRELL     A  Instructor  Excellent   302.0\n",
              "4  fa2003  ACCOUNTANCY    FELLER     A  Instructor  Excellent   310.0"
            ]
          },
          "metadata": {
            "tags": []
          },
          "execution_count": 56
        }
      ]
    },
    {
      "cell_type": "markdown",
      "metadata": {
        "colab_type": "text",
        "id": "RJ9jPs4qH4Xm"
      },
      "source": [
        "**[4 points] (b)** Run a summary over the data. Within the summary\n",
        "output, what variable output is different from the rest? What might have caused this?"
      ]
    },
    {
      "cell_type": "code",
      "metadata": {
        "colab_type": "code",
        "id": "ty5Rxq2MLiNR",
        "colab": {},
        "outputId": "138a28d3-0459-4d61-9b65-4f3f9ca3ccca"
      },
      "source": [
        "# Code\n",
        "excel_teach.describe(include = ['object', 'float', 'int'])"
      ],
      "execution_count": 0,
      "outputs": [
        {
          "output_type": "execute_result",
          "data": {
            "text/html": [
              "<div>\n",
              "<style scoped>\n",
              "    .dataframe tbody tr th:only-of-type {\n",
              "        vertical-align: middle;\n",
              "    }\n",
              "\n",
              "    .dataframe tbody tr th {\n",
              "        vertical-align: top;\n",
              "    }\n",
              "\n",
              "    .dataframe thead th {\n",
              "        text-align: right;\n",
              "    }\n",
              "</style>\n",
              "<table border=\"1\" class=\"dataframe\">\n",
              "  <thead>\n",
              "    <tr style=\"text-align: right;\">\n",
              "      <th></th>\n",
              "      <th>term</th>\n",
              "      <th>unit</th>\n",
              "      <th>lname</th>\n",
              "      <th>role</th>\n",
              "      <th>ranking</th>\n",
              "      <th>course</th>\n",
              "    </tr>\n",
              "  </thead>\n",
              "  <tbody>\n",
              "    <tr>\n",
              "      <th>count</th>\n",
              "      <td>96988</td>\n",
              "      <td>96988</td>\n",
              "      <td>96985</td>\n",
              "      <td>96988</td>\n",
              "      <td>96988</td>\n",
              "      <td>96988.00000</td>\n",
              "    </tr>\n",
              "    <tr>\n",
              "      <th>unique</th>\n",
              "      <td>72</td>\n",
              "      <td>296</td>\n",
              "      <td>14826</td>\n",
              "      <td>2</td>\n",
              "      <td>2</td>\n",
              "      <td>NaN</td>\n",
              "    </tr>\n",
              "    <tr>\n",
              "      <th>top</th>\n",
              "      <td>fa2017</td>\n",
              "      <td>MUSIC</td>\n",
              "      <td>KIM</td>\n",
              "      <td>Instructor</td>\n",
              "      <td>Excellent</td>\n",
              "      <td>NaN</td>\n",
              "    </tr>\n",
              "    <tr>\n",
              "      <th>freq</th>\n",
              "      <td>2933</td>\n",
              "      <td>4119</td>\n",
              "      <td>521</td>\n",
              "      <td>51314</td>\n",
              "      <td>63909</td>\n",
              "      <td>NaN</td>\n",
              "    </tr>\n",
              "    <tr>\n",
              "      <th>mean</th>\n",
              "      <td>NaN</td>\n",
              "      <td>NaN</td>\n",
              "      <td>NaN</td>\n",
              "      <td>NaN</td>\n",
              "      <td>NaN</td>\n",
              "      <td>298.40439</td>\n",
              "    </tr>\n",
              "    <tr>\n",
              "      <th>std</th>\n",
              "      <td>NaN</td>\n",
              "      <td>NaN</td>\n",
              "      <td>NaN</td>\n",
              "      <td>NaN</td>\n",
              "      <td>NaN</td>\n",
              "      <td>162.17553</td>\n",
              "    </tr>\n",
              "    <tr>\n",
              "      <th>min</th>\n",
              "      <td>NaN</td>\n",
              "      <td>NaN</td>\n",
              "      <td>NaN</td>\n",
              "      <td>NaN</td>\n",
              "      <td>NaN</td>\n",
              "      <td>2.00000</td>\n",
              "    </tr>\n",
              "    <tr>\n",
              "      <th>25%</th>\n",
              "      <td>NaN</td>\n",
              "      <td>NaN</td>\n",
              "      <td>NaN</td>\n",
              "      <td>NaN</td>\n",
              "      <td>NaN</td>\n",
              "      <td>144.00000</td>\n",
              "    </tr>\n",
              "    <tr>\n",
              "      <th>50%</th>\n",
              "      <td>NaN</td>\n",
              "      <td>NaN</td>\n",
              "      <td>NaN</td>\n",
              "      <td>NaN</td>\n",
              "      <td>NaN</td>\n",
              "      <td>260.00000</td>\n",
              "    </tr>\n",
              "    <tr>\n",
              "      <th>75%</th>\n",
              "      <td>NaN</td>\n",
              "      <td>NaN</td>\n",
              "      <td>NaN</td>\n",
              "      <td>NaN</td>\n",
              "      <td>NaN</td>\n",
              "      <td>426.00000</td>\n",
              "    </tr>\n",
              "    <tr>\n",
              "      <th>max</th>\n",
              "      <td>NaN</td>\n",
              "      <td>NaN</td>\n",
              "      <td>NaN</td>\n",
              "      <td>NaN</td>\n",
              "      <td>NaN</td>\n",
              "      <td>798.00000</td>\n",
              "    </tr>\n",
              "  </tbody>\n",
              "</table>\n",
              "</div>"
            ],
            "text/plain": [
              "          term   unit  lname        role    ranking       course\n",
              "count    96988  96988  96985       96988      96988  96988.00000\n",
              "unique      72    296  14826           2          2          NaN\n",
              "top     fa2017  MUSIC    KIM  Instructor  Excellent          NaN\n",
              "freq      2933   4119    521       51314      63909          NaN\n",
              "mean       NaN    NaN    NaN         NaN        NaN    298.40439\n",
              "std        NaN    NaN    NaN         NaN        NaN    162.17553\n",
              "min        NaN    NaN    NaN         NaN        NaN      2.00000\n",
              "25%        NaN    NaN    NaN         NaN        NaN    144.00000\n",
              "50%        NaN    NaN    NaN         NaN        NaN    260.00000\n",
              "75%        NaN    NaN    NaN         NaN        NaN    426.00000\n",
              "max        NaN    NaN    NaN         NaN        NaN    798.00000"
            ]
          },
          "metadata": {
            "tags": []
          },
          "execution_count": 77
        }
      ]
    },
    {
      "cell_type": "markdown",
      "metadata": {
        "colab_type": "text",
        "id": "3LdJrFlzLi_M"
      },
      "source": [
        "Variable difference explanation:\n",
        "The variable **course** is different than others in that it is a numerical variable. **course** represents the course number so it doesn't need to be numerical necessarily. Pandas interpreting this column as numerical when reading the csv might have caused this."
      ]
    },
    {
      "cell_type": "markdown",
      "metadata": {
        "colab_type": "text",
        "id": "TwCg4HiJLIz-"
      },
      "source": [
        "**[4 points] (c)** \n",
        "\n",
        "1. Verify that `course` has `NaN` values. \n",
        "2. Perform a median imputation to remove `NaN` values.\n"
      ]
    },
    {
      "cell_type": "code",
      "metadata": {
        "colab_type": "code",
        "id": "CMCB371fLgvV",
        "colab": {},
        "outputId": "0ea4d699-49b6-4833-8c2f-c6ffd2da4d0e"
      },
      "source": [
        "# Code\n",
        "excel_teach[excel_teach.course.isna()].head()"
      ],
      "execution_count": 0,
      "outputs": [
        {
          "output_type": "execute_result",
          "data": {
            "text/html": [
              "<div>\n",
              "<style scoped>\n",
              "    .dataframe tbody tr th:only-of-type {\n",
              "        vertical-align: middle;\n",
              "    }\n",
              "\n",
              "    .dataframe tbody tr th {\n",
              "        vertical-align: top;\n",
              "    }\n",
              "\n",
              "    .dataframe thead th {\n",
              "        text-align: right;\n",
              "    }\n",
              "</style>\n",
              "<table border=\"1\" class=\"dataframe\">\n",
              "  <thead>\n",
              "    <tr style=\"text-align: right;\">\n",
              "      <th></th>\n",
              "      <th>term</th>\n",
              "      <th>unit</th>\n",
              "      <th>lname</th>\n",
              "      <th>fname</th>\n",
              "      <th>role</th>\n",
              "      <th>ranking</th>\n",
              "      <th>course</th>\n",
              "    </tr>\n",
              "  </thead>\n",
              "  <tbody>\n",
              "    <tr>\n",
              "      <th>170</th>\n",
              "      <td>fa2003</td>\n",
              "      <td>AVIATION</td>\n",
              "      <td>BOWERS</td>\n",
              "      <td>T</td>\n",
              "      <td>Instructor</td>\n",
              "      <td>Excellent</td>\n",
              "      <td>NaN</td>\n",
              "    </tr>\n",
              "    <tr>\n",
              "      <th>171</th>\n",
              "      <td>fa2003</td>\n",
              "      <td>AVIATION</td>\n",
              "      <td>COWAN</td>\n",
              "      <td>E</td>\n",
              "      <td>Instructor</td>\n",
              "      <td>Excellent</td>\n",
              "      <td>NaN</td>\n",
              "    </tr>\n",
              "    <tr>\n",
              "      <th>172</th>\n",
              "      <td>fa2003</td>\n",
              "      <td>AVIATION</td>\n",
              "      <td>DANN MESSIER</td>\n",
              "      <td>D</td>\n",
              "      <td>Instructor</td>\n",
              "      <td>Outstanding</td>\n",
              "      <td>NaN</td>\n",
              "    </tr>\n",
              "    <tr>\n",
              "      <th>173</th>\n",
              "      <td>fa2003</td>\n",
              "      <td>AVIATION</td>\n",
              "      <td>FANONE</td>\n",
              "      <td>C</td>\n",
              "      <td>Instructor</td>\n",
              "      <td>Excellent</td>\n",
              "      <td>NaN</td>\n",
              "    </tr>\n",
              "    <tr>\n",
              "      <th>174</th>\n",
              "      <td>fa2003</td>\n",
              "      <td>AVIATION</td>\n",
              "      <td>FRANCIS</td>\n",
              "      <td>J</td>\n",
              "      <td>Instructor</td>\n",
              "      <td>Excellent</td>\n",
              "      <td>NaN</td>\n",
              "    </tr>\n",
              "  </tbody>\n",
              "</table>\n",
              "</div>"
            ],
            "text/plain": [
              "       term      unit         lname fname        role      ranking  course\n",
              "170  fa2003  AVIATION        BOWERS     T  Instructor    Excellent     NaN\n",
              "171  fa2003  AVIATION         COWAN     E  Instructor    Excellent     NaN\n",
              "172  fa2003  AVIATION  DANN MESSIER     D  Instructor  Outstanding     NaN\n",
              "173  fa2003  AVIATION        FANONE     C  Instructor    Excellent     NaN\n",
              "174  fa2003  AVIATION       FRANCIS     J  Instructor    Excellent     NaN"
            ]
          },
          "metadata": {
            "tags": []
          },
          "execution_count": 63
        }
      ]
    },
    {
      "cell_type": "code",
      "metadata": {
        "id": "RS7pkOmJNiP8",
        "colab_type": "code",
        "colab": {}
      },
      "source": [
        "course_median = excel_teach.course.median()\n",
        "excel_teach['course'] = excel_teach['course'].fillna(course_median)"
      ],
      "execution_count": 0,
      "outputs": []
    },
    {
      "cell_type": "code",
      "metadata": {
        "id": "4X2R24RsNiP_",
        "colab_type": "code",
        "colab": {},
        "outputId": "011aad70-feea-40c0-fc23-8546aa019bbe"
      },
      "source": [
        "excel_teach[excel_teach.course.isna()].head()"
      ],
      "execution_count": 0,
      "outputs": [
        {
          "output_type": "execute_result",
          "data": {
            "text/html": [
              "<div>\n",
              "<style scoped>\n",
              "    .dataframe tbody tr th:only-of-type {\n",
              "        vertical-align: middle;\n",
              "    }\n",
              "\n",
              "    .dataframe tbody tr th {\n",
              "        vertical-align: top;\n",
              "    }\n",
              "\n",
              "    .dataframe thead th {\n",
              "        text-align: right;\n",
              "    }\n",
              "</style>\n",
              "<table border=\"1\" class=\"dataframe\">\n",
              "  <thead>\n",
              "    <tr style=\"text-align: right;\">\n",
              "      <th></th>\n",
              "      <th>term</th>\n",
              "      <th>unit</th>\n",
              "      <th>lname</th>\n",
              "      <th>fname</th>\n",
              "      <th>role</th>\n",
              "      <th>ranking</th>\n",
              "      <th>course</th>\n",
              "    </tr>\n",
              "  </thead>\n",
              "  <tbody>\n",
              "  </tbody>\n",
              "</table>\n",
              "</div>"
            ],
            "text/plain": [
              "Empty DataFrame\n",
              "Columns: [term, unit, lname, fname, role, ranking, course]\n",
              "Index: []"
            ]
          },
          "metadata": {
            "tags": []
          },
          "execution_count": 67
        }
      ]
    },
    {
      "cell_type": "markdown",
      "metadata": {
        "colab_type": "text",
        "id": "DFSsD-FpH8dO"
      },
      "source": [
        "\n",
        "**[4 points] (d)** \n",
        "\n",
        "1. Who was your favorite teacher at UIUC? Search for them in the list of excellency. \n",
        "  - _Hint_: Search the `lname` variable in the `DataFrame`.\n",
        "  - _Hint_: Make sure to search the _last name_ with capital letters.\n",
        "\n",
        "2. Compute the total number of times they appeared in the excellency ratings.\n",
        "\n"
      ]
    },
    {
      "cell_type": "code",
      "metadata": {
        "colab_type": "code",
        "id": "NxTvGeKSLdsi",
        "colab": {},
        "outputId": "297bacbf-8666-4108-e02e-0c6bda64a701"
      },
      "source": [
        "# Code\n",
        "excel_teach[excel_teach.lname == 'VEERAVALLI'].head()"
      ],
      "execution_count": 0,
      "outputs": [
        {
          "output_type": "execute_result",
          "data": {
            "text/html": [
              "<div>\n",
              "<style scoped>\n",
              "    .dataframe tbody tr th:only-of-type {\n",
              "        vertical-align: middle;\n",
              "    }\n",
              "\n",
              "    .dataframe tbody tr th {\n",
              "        vertical-align: top;\n",
              "    }\n",
              "\n",
              "    .dataframe thead th {\n",
              "        text-align: right;\n",
              "    }\n",
              "</style>\n",
              "<table border=\"1\" class=\"dataframe\">\n",
              "  <thead>\n",
              "    <tr style=\"text-align: right;\">\n",
              "      <th></th>\n",
              "      <th>term</th>\n",
              "      <th>unit</th>\n",
              "      <th>lname</th>\n",
              "      <th>fname</th>\n",
              "      <th>role</th>\n",
              "      <th>ranking</th>\n",
              "      <th>course</th>\n",
              "    </tr>\n",
              "  </thead>\n",
              "  <tbody>\n",
              "    <tr>\n",
              "      <th>2309</th>\n",
              "      <td>sp2007</td>\n",
              "      <td>ELECTRICAL AND COMPUTER ENGINEERING</td>\n",
              "      <td>VEERAVALLI</td>\n",
              "      <td>V</td>\n",
              "      <td>Instructor</td>\n",
              "      <td>Excellent</td>\n",
              "      <td>561.0</td>\n",
              "    </tr>\n",
              "    <tr>\n",
              "      <th>20834</th>\n",
              "      <td>fa2007</td>\n",
              "      <td>ELECTRICAL AND COMPUTER ENGINEERING</td>\n",
              "      <td>VEERAVALLI</td>\n",
              "      <td>V</td>\n",
              "      <td>Instructor</td>\n",
              "      <td>Excellent</td>\n",
              "      <td>559.0</td>\n",
              "    </tr>\n",
              "    <tr>\n",
              "      <th>26846</th>\n",
              "      <td>fa2010</td>\n",
              "      <td>ELECTRICAL AND COMPUTER ENGINEERING</td>\n",
              "      <td>VEERAVALLI</td>\n",
              "      <td>V</td>\n",
              "      <td>Instructor</td>\n",
              "      <td>Excellent</td>\n",
              "      <td>562.0</td>\n",
              "    </tr>\n",
              "    <tr>\n",
              "      <th>26847</th>\n",
              "      <td>fa2010</td>\n",
              "      <td>ELECTRICAL AND COMPUTER ENGINEERING</td>\n",
              "      <td>VEERAVALLI</td>\n",
              "      <td>V</td>\n",
              "      <td>Instructor</td>\n",
              "      <td>Excellent</td>\n",
              "      <td>563.0</td>\n",
              "    </tr>\n",
              "    <tr>\n",
              "      <th>28987</th>\n",
              "      <td>fa2013</td>\n",
              "      <td>ELECTRICAL AND COMPUTER ENGINEERING</td>\n",
              "      <td>VEERAVALLI</td>\n",
              "      <td>V</td>\n",
              "      <td>Instructor</td>\n",
              "      <td>Excellent</td>\n",
              "      <td>562.0</td>\n",
              "    </tr>\n",
              "  </tbody>\n",
              "</table>\n",
              "</div>"
            ],
            "text/plain": [
              "         term                                 unit       lname fname  \\\n",
              "2309   sp2007  ELECTRICAL AND COMPUTER ENGINEERING  VEERAVALLI     V   \n",
              "20834  fa2007  ELECTRICAL AND COMPUTER ENGINEERING  VEERAVALLI     V   \n",
              "26846  fa2010  ELECTRICAL AND COMPUTER ENGINEERING  VEERAVALLI     V   \n",
              "26847  fa2010  ELECTRICAL AND COMPUTER ENGINEERING  VEERAVALLI     V   \n",
              "28987  fa2013  ELECTRICAL AND COMPUTER ENGINEERING  VEERAVALLI     V   \n",
              "\n",
              "             role    ranking  course  \n",
              "2309   Instructor  Excellent   561.0  \n",
              "20834  Instructor  Excellent   559.0  \n",
              "26846  Instructor  Excellent   562.0  \n",
              "26847  Instructor  Excellent   563.0  \n",
              "28987  Instructor  Excellent   562.0  "
            ]
          },
          "metadata": {
            "tags": []
          },
          "execution_count": 70
        }
      ]
    },
    {
      "cell_type": "code",
      "metadata": {
        "id": "WBwQT1Q8NiQF",
        "colab_type": "code",
        "colab": {},
        "outputId": "30a2fe0d-9d44-4ad4-cd3a-082f0e785a70"
      },
      "source": [
        "print(\"They've appeared {} times.\".format(excel_teach[excel_teach.lname == 'VEERAVALLI'].shape[0]))"
      ],
      "execution_count": 0,
      "outputs": [
        {
          "output_type": "stream",
          "text": [
            "They've appeared 14 times.\n"
          ],
          "name": "stdout"
        }
      ]
    },
    {
      "cell_type": "markdown",
      "metadata": {
        "colab_type": "text",
        "id": "Xev7Vc4WknDa"
      },
      "source": [
        "**[2 points] (e)** Drop the `fname` column in-place."
      ]
    },
    {
      "cell_type": "code",
      "metadata": {
        "colab_type": "code",
        "id": "nqG30ubcklxz",
        "colab": {}
      },
      "source": [
        "# Code\n",
        "excel_teach.drop('fname', axis = 1, inplace = True)"
      ],
      "execution_count": 0,
      "outputs": []
    },
    {
      "cell_type": "markdown",
      "metadata": {
        "colab_type": "text",
        "id": "-C8pXVE9VbZg"
      },
      "source": [
        "**[2 points] (f)** Split the data into a training and testing data set. The weight should be 65% training and 35% testing."
      ]
    },
    {
      "cell_type": "code",
      "metadata": {
        "colab_type": "code",
        "id": "8gaT-VyxVbw6",
        "colab": {},
        "outputId": "a086e48e-e776-4a3f-f968-351e071ced53"
      },
      "source": [
        "# Code\n",
        "\n",
        "# Shuffle observations within the data set\n",
        "# to avoid correlation between related rows\n",
        "excel_teach = excel_teach.reindex(\n",
        "    np.random.permutation(excel_teach.index)\n",
        ")\n",
        "# Randomly generate indices so that the data\n",
        "# is split into 80/20\n",
        "num_obs = len(excel_teach)\n",
        "train_idx = np.random.rand(num_obs) < 0.65\n",
        "\n",
        "# split the data\n",
        "training_df = excel_teach[train_idx]\n",
        "testing_df = excel_teach[~train_idx]\n",
        "\n",
        "print(training_df.shape[0])\n",
        "print(testing_df.shape[0])"
      ],
      "execution_count": 0,
      "outputs": [
        {
          "output_type": "stream",
          "text": [
            "62761\n",
            "34227\n"
          ],
          "name": "stdout"
        }
      ]
    },
    {
      "cell_type": "markdown",
      "metadata": {
        "colab_type": "text",
        "id": "91EwUGyEJG6s"
      },
      "source": [
        "\n",
        "**[2 points] (g)** Create a bar plot on `role` to see the counts of how often a `Instructor` or `TA` make the list."
      ]
    },
    {
      "cell_type": "code",
      "metadata": {
        "colab_type": "code",
        "id": "LkqUpr44LexD",
        "colab": {},
        "outputId": "84546e34-6acb-493c-f582-7f7c48d1e5b8"
      },
      "source": [
        "# Code\n",
        "excel_teach['role'].value_counts().plot(kind = 'bar')"
      ],
      "execution_count": 0,
      "outputs": [
        {
          "output_type": "execute_result",
          "data": {
            "text/plain": [
              "<matplotlib.axes._subplots.AxesSubplot at 0x127e0c128>"
            ]
          },
          "metadata": {
            "tags": []
          },
          "execution_count": 91
        },
        {
          "output_type": "display_data",
          "data": {
            "image/png": "[encoded data removed]",
            "text/plain": [
              "<Figure size 432x288 with 1 Axes>"
            ]
          },
          "metadata": {
            "tags": [],
            "needs_background": "light"
          }
        }
      ]
    },
    {
      "cell_type": "code",
      "metadata": {
        "id": "iJBtGQgSNiQS",
        "colab_type": "code",
        "colab": {}
      },
      "source": [
        ""
      ],
      "execution_count": 0,
      "outputs": []
    }
  ]
}